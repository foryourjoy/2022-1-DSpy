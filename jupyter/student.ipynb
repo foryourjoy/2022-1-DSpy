{
 "cells": [
  {
   "cell_type": "code",
   "execution_count": null,
   "id": "fdbf8f45-a7a3-455a-9b4d-f9531092bbf2",
   "metadata": {},
   "outputs": [],
   "source": [
    "class Student:\n",
    "    def __init__(self,id,first_name,last_name):\n",
    "        self.id=id\n",
    "        self.first=first_name\n",
    "        self.last=last_name\n",
    "    \n",
    "    def __repr__(self):\n",
    "        return 'Student({},{},{})'.format(self.id,self.first,self.last)\n",
    "    def __str__(self):\n",
    "        return '{}: {} {}'.format(str(self.id),self.first,self.last)\n",
    "    "
   ]
  },
  {
   "cell_type": "code",
   "execution_count": null,
   "id": "8876149f-0682-4608-b8d3-577c6b92bf9d",
   "metadata": {},
   "outputs": [],
   "source": [
    "s1=Student(12,'David','Song')\n",
    "print(s1)\n",
    "print(s1.__repr__())\n",
    "s1"
   ]
  },
  {
   "cell_type": "code",
   "execution_count": 6,
   "id": "03f33430-b7cc-48d6-8474-147d47cd3130",
   "metadata": {},
   "outputs": [
    {
     "name": "stdout",
     "output_type": "stream",
     "text": [
      "12:David Song\n",
      "Student(12,David,Song)\n"
     ]
    },
    {
     "data": {
      "text/plain": [
       "Student(12,David,Song)"
      ]
     },
     "execution_count": 6,
     "metadata": {},
     "output_type": "execute_result"
    }
   ],
   "source": [
    "class Student:\n",
    "    def __init__(self,id,first_name,last_name):\n",
    "        self.id=id\n",
    "        self.first=first_name\n",
    "        self.last=last_name\n",
    "    \n",
    "    def __repr__(self):\n",
    "        return 'Student({},{},{})'.format(self.id,self.first,self.last)\n",
    "    def __str__(self):\n",
    "        #return '{}: {} {}'.format(str(self.id),self.first,self.last)\n",
    "        return str(self.id)+':'+str(self.first)+' '+str(self.last)\n",
    "    \n",
    "s1=Student(12,'David','Song')\n",
    "print(s1)\n",
    "print(s1.__repr__())\n",
    "s1"
   ]
  }
 ],
 "metadata": {
  "kernelspec": {
   "display_name": "Python 3 (ipykernel)",
   "language": "python",
   "name": "python3"
  },
  "language_info": {
   "codemirror_mode": {
    "name": "ipython",
    "version": 3
   },
   "file_extension": ".py",
   "mimetype": "text/x-python",
   "name": "python",
   "nbconvert_exporter": "python",
   "pygments_lexer": "ipython3",
   "version": "3.9.12"
  }
 },
 "nbformat": 4,
 "nbformat_minor": 5
}
