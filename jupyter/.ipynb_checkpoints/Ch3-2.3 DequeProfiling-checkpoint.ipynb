{
 "cells": [
  {
   "cell_type": "markdown",
   "id": "0754159b-b966-410d-ad0a-611d186d4049",
   "metadata": {},
   "source": [
    "또 어려서부터 성경을 알았나니 성경은 능히 너로 하여금 그리스도 예수 안에 있는 믿음으로 말미암아 구원에 이르는 지혜가 있게 하느니라 모든 성경은 하나님의 감동으로 된 것으로 교훈과 책망과 바르게 함과 의로 교육하기에 유익하니 이는 하나님의 사람으로 온전하게 하며 모든 선한 일을 행할 능력을 갖추게 하려 함이라 (딤후3:15-17)\n",
    "\n",
    "-------\n",
    "<center><img src=\"https://github.com/idebtor/DSpy/blob/6b3676c3de29f85d2e7f30679676d1fd96d88b17/images/WelcomeToDataStructures.jpg?raw=true\" width=1000></center>\n",
    "\n",
    "__NOTE:__ The following materials have been compiled and adapted from the numerous sources including my own. Please help me to keep this tutorial up-to-date by reporting any issues or questions. Send any comments or criticisms to `idebtor@gmail.com` Your assistances and comments will be appreciated.\n",
    "\n",
    "--------"
   ]
  },
  {
   "cell_type": "markdown",
   "id": "cd79fb8d-fa63-45ae-b072-23825cc4b580",
   "metadata": {},
   "source": [
    "<b style=\"font-size:30px\">  Chapter 3. Linear Data Structures (선형 자료구조)</b>\n",
    "\n",
    ": 선형 자료구조란 무엇인가 (스택,큐,리스트 등)  \n",
    "On my honour, I pledge that I have neither received nor provided improper assistance  \n",
    "in the completion of this assignment.  \n",
    "Signed: 최윤영 Student Number: 22100748  \n",
    "--------------\n",
    "제 3장에서는 선형 자료구조에 대해 알아봅니다. 선형 자료구조란 무엇이며, 자료구조에 사용되는 대표적인 선형 자료구조들을 배우고 간단한 실습을 통해 구현해보며 익히게 됩니다. 자료구조의 기초가 되며, 이후 운영체제, 알고리즘, 네트워크 등 모든 영역에 활용되는 것 이므로 적극적인 자세로 재밌게 배우면 좋겠습니다!\n"
   ]
  },
  {
   "cell_type": "markdown",
   "id": "bee4be8f-a8bb-4afb-8f5b-6e8c598824a9",
   "metadata": {},
   "source": [
    "\n",
    "<b style=\"font-size:20px\"> Lecture note: Time and Timeit </b>\n",
    "\n",
    "프로그램의 성능을 분석할 때, 특히 알고리즘이나 함수의 시간 복잡도를 중점적으로 다룬다면 스톱워치만으로 충분한 경우가 대부분입니다. 실행하는 데 몇 초 또는 몇 분이 걸리는 두 Code snippet 사이의 시간을 프로파일링하는 것이 목적이라면 스톱워치만으로 충분합니다.\n",
    " \n",
    "파이썬 표준 라이브러리에는 스톱워치 역할을 하는 두 가지 함수가 있다. 타임 모듈의 `time.perf_counter()` 함수는 운영체제의 고분해능 타이머를 호출해서 임의의 타임스탬프를 구합니다. 작업 전과 후에 한 번씩 `time.perf_counter()`를 호출하면 둘 사이의 차이를 확인할 수 있습니다. 간단히, 오버헤드 없이 코드 시간을 측정할 수 있는 방법입니다.\n",
    " \n",
    "타임잇 모듈은 파이썬 코드를 대상으로 실제 벤치마킹과 비슷한 작업을 수행합니다. `timeit.timeit` 함수는 Code snippet을 취해서 여러 번 실행하고(기본값은 100만 패스) 소요된 총 시간을 구합니다. 타이트한 루프에서 단일 작업이나 함수 호출의 성능을 알아보는 데 적합합니다. 예를 들어 많은 횟수로 반복되는 작업에서 리스트 컴프리헨션(list comprehension)과 일반적인 리스트 구조 중 무엇이 더 빠른지 알아볼 수 있다(보통 리스트 컴프리헨션이 더 빠름).\n",
    " \n",
    "타임의 단점은 스톱워치 기능이 전부라는 것이고, 타임잇의 단점은 주 용도가 코드의 라인 하나하나 또는 블록을 대상으로 한 마이크로 벤치마크라는 것입니다. 이 두 모듈은 일정 부분의 코드 즉 함수나 알고리즘을 대상으로만 효과적입니다. 즉, 수천 라인의 프로그램 코드에서 가장 많은 시간을 소비하는 부분을 찾는 전체 프로그램 분석 용도로는 두 가지 모두 충분하지 않아서 다른 전문적인 도구를 사용합니다. 본 과정에서는 `time`과 `timeit`모듈만 다룹니다. "
   ]
  },
  {
   "cell_type": "markdown",
   "id": "a06f8f90-fb7a-452b-a407-b9c1ccd4e812",
   "metadata": {},
   "source": [
    "# 데크$^{Deque}$ Profiling Exercise\n",
    "\n",
    "## Step1:  `perf_counter()` 사용하기\n",
    "\n",
    "- `perf_counter()`는 파이썬 time 모듈에서 성능 분석을 위하여 시간을 측정할 수 있도록 제공하는 함수입니다. \n",
    "- 다음은 두 개의 작업 즉 list의 insert(0, i)와 deque의 appendleft()의 시간복잡도를 비교하기 위한 코드입니다. 여기서는 간단히 파이썬에서 제공하는 스톱워치와 같은 기능을 하는 `perf_counter()`를 사용합니다. \n",
    "- 다만, 아래의 코드의 두 블록이 호출하는 작업만 다를 뿐 진행하는 과정이 동일합니다. 이렇게 반복되는 코드를 수정하는 과정을 통해 일급 객체(the first class object)를 활용하는 기술을 익히게 됩니다. "
   ]
  },
  {
   "cell_type": "markdown",
   "id": "5fc15a87-b38d-4f5c-80b9-620c11b994de",
   "metadata": {},
   "source": [
    "<b style=\"font-size:20px\"> Lecture note: The first class object </b>\n",
    "\n",
    "일급 객체(first-class)는 객체 지향 프로그래밍(object-oriented programming)중에서 파이썬을 포함한 몇몇 프로그래밍 언어에서 발견할 수 있는 개념입니다. 아래는 이를 잘 드러내는 파이썬의 철학이다.\n",
    "'모든 것은 객체(object)다' \n",
    "파이썬에서 다루는 모든 것이 다 객체입니다. 즉 숫자, 문자열, 튜플, 리스트, 딕셔너리, 그리고 함수를 포함합니다. 함수는 그 중에서도 일급 객체(first-class object)입니다. 이 뜻은 다음과 같습니다. \n",
    "\n",
    "- 함수를 변수에 할당 가능\n",
    "- 다른 함수에서 해당 함수를 인자로 전달 가능\n",
    "- 함수에서 함수를 반환 가능\n",
    "\n",
    "우리는 변수(variable)를 쉽게 객체라고 생각합니다. 하지만 함수(function)도, 클래스(class) 등도 객체가 될 수 있다고는 생각하지 못합니다. 파이썬의 다른 기타 자료구조를 포함한 모든 것은 객체이기 때문에 무엇이든 함수의 인자로(argument) 전달 가능합니다. 이러한 사실을 염두에 두고 이 부분을 공부합니다. "
   ]
  },
  {
   "cell_type": "code",
   "execution_count": 23,
   "id": "acd0cbf1-6e33-499e-aeeb-496cd9d6a92b",
   "metadata": {},
   "outputs": [
    {
     "name": "stdout",
     "output_type": "stream",
     "text": [
      "     list.insert()      4.80518 sec\n",
      "deque.appendleft()     0.007695 sec\n",
      "  list/deque ratio      624.454 x faster\n"
     ]
    }
   ],
   "source": [
    "#%%writefile perf_counter1.py\n",
    "from collections import deque\n",
    "from time import perf_counter  # performance counter\n",
    "\n",
    "NSIZE = 100_000\n",
    "TIMES = 100_000\n",
    "alist = list(range(NSIZE))\n",
    "t_start = perf_counter()\n",
    "for i in range(TIMES):\n",
    "    alist.insert(0, i)\n",
    "list_time = perf_counter() - t_start        \n",
    "print(f\"     list.insert() {list_time:>12.6} sec\")\n",
    "\n",
    "adeq = deque(range(NSIZE))\n",
    "t_start = perf_counter()\n",
    "for i in range(TIMES):\n",
    "    adeq.appendleft(i)\n",
    "deq_time = perf_counter() - t_start       \n",
    "print(f\"deque.appendleft() {deq_time:>12.6} sec\")\n",
    "\n",
    "ratio = list_time / deq_time\n",
    "print(f\"  list/deque ratio {ratio:>12.6} x faster\")"
   ]
  },
  {
   "cell_type": "markdown",
   "id": "fbe0090d-db63-4973-a9dd-e486f2e206fe",
   "metadata": {},
   "source": [
    "## Step 2: DRY - Do not Repeat Yourself\n",
    "\n",
    "위의 `list_time`과 `deq_time`을 구하는 두 Code snippet이 거의 동일합니다. 이 부분의 코드를 반복하지 않도록 수정해보려고 합니다. 첫 번째 시도해볼 수 있는 방법은 두 부분을 각각의 함수로 변환해보는 것입니다. 그러면, 다음과 같습니다. \n",
    "\n",
    "- `deq_timing()` 함수를 완성하십시오.  "
   ]
  },
  {
   "cell_type": "code",
   "execution_count": 25,
   "id": "6c9846af-f104-4482-8898-32e4f0b59f5e",
   "metadata": {},
   "outputs": [
    {
     "name": "stdout",
     "output_type": "stream",
     "text": [
      "     list.insert()      4.81554 sec\n",
      "deque.appendleft()   0.00454104 sec\n",
      "  list/deque ratio      1060.45 x faster\n"
     ]
    }
   ],
   "source": [
    "#%%writefile perf_counter2.py\n",
    "from collections import deque\n",
    "from time import perf_counter  # performance counter\n",
    "\n",
    "def list_timing(NSIZE, TIMES):\n",
    "    alist = list(range(NSIZE))\n",
    "    start = perf_counter()\n",
    "    for i in range(TIMES):\n",
    "        alist.insert(0, i)\n",
    "    return perf_counter() - start\n",
    "\n",
    "def deq_timing(NSIZE, TIMES):\n",
    "    adeq=deque(range(NSIZE))\n",
    "    start=perf_counter()\n",
    "    for i in range(TIMES):\n",
    "        adeq.appendleft(i)\n",
    "    return perf_counter()-start\n",
    "\n",
    "if __name__ == '__main__':\n",
    "    NSIZE = 100_000\n",
    "    TIMES = 100_000\n",
    "    list_time = list_timing(NSIZE, TIMES)       \n",
    "    print(f\"     list.insert() {list_time:>12.6} sec\")\n",
    "    deq_time = deq_timing(NSIZE, TIMES)       \n",
    "    print(f\"deque.appendleft() {deq_time:>12.6} sec\")\n",
    "    ratio = list_time / deq_time\n",
    "    print(f\"  list/deque ratio {ratio:>12.6} x faster\")"
   ]
  },
  {
   "cell_type": "markdown",
   "id": "cf05e088-35ee-4249-8316-388547b956e8",
   "metadata": {},
   "source": [
    "## Step 3: 하나의 함수로 변환하기 \n",
    "\n",
    "두 개의 함수를 사용하기 보다는 하나의 함수(예를 들면, perf_timeit)로 통일하고, 그 하나의 함수로 필요한 작업들 (list insert() 혹은 deque appendleft())를 함수의 매개변수를 전달하는 방법을 시도합니다. \n",
    "\n",
    "- perf_timeit()함수의 매개 변수로 NSIZE (list 혹은 deque의 샘플의 수 혹은 문제의 크기 N)과 반복 횟수 TIMES를 사용합니다. \n",
    "- perf_timeit()함수의 내부에 시간 측정을 위한 보조 elaped()함수를 만들고, 이 함수가 실행할 작업할 함수 즉 `list insert() 혹은 deque appendleft()`를 차례로 입력하여 시간을 측정하게 합니다. \n",
    "- 아래 코드에서 None부분에 elapse()함수가 매개변수로 받아 실행 할 수 있도록 작업(함수)의 인자를 포함해서 넘겨는 일을 Lambda function을 사용할 수 있습니다. \n",
    "\n",
    "아래 코드 셀은 다음 두 줄로 인하여 작동하지 않습니다. 계속 진행하십시오.  \n",
    "```\n",
    "    list_time = elapsed(None) \n",
    "    deq_time  = elapsed(None)    \n",
    "```"
   ]
  },
  {
   "cell_type": "code",
   "execution_count": 3,
   "id": "d6df3f3c-2720-4d8d-af3b-7a561e821138",
   "metadata": {},
   "outputs": [
    {
     "ename": "TypeError",
     "evalue": "'NoneType' object is not callable",
     "output_type": "error",
     "traceback": [
      "\u001b[0;31m---------------------------------------------------------------------------\u001b[0m",
      "\u001b[0;31mTypeError\u001b[0m                                 Traceback (most recent call last)",
      "\u001b[0;32m/var/folders/_c/5z9grn611_70x4_hw3rpx3040000gn/T/ipykernel_8140/1263217140.py\u001b[0m in \u001b[0;36m<module>\u001b[0;34m\u001b[0m\n\u001b[1;32m     20\u001b[0m     \u001b[0mNSIZE\u001b[0m \u001b[0;34m=\u001b[0m \u001b[0;36m100_000\u001b[0m\u001b[0;34m\u001b[0m\u001b[0;34m\u001b[0m\u001b[0m\n\u001b[1;32m     21\u001b[0m     \u001b[0mTIMES\u001b[0m \u001b[0;34m=\u001b[0m \u001b[0;36m100_000\u001b[0m\u001b[0;34m\u001b[0m\u001b[0;34m\u001b[0m\u001b[0m\n\u001b[0;32m---> 22\u001b[0;31m     \u001b[0mlist_time\u001b[0m\u001b[0;34m,\u001b[0m \u001b[0mdeq_time\u001b[0m \u001b[0;34m=\u001b[0m \u001b[0mperf_timeit\u001b[0m\u001b[0;34m(\u001b[0m\u001b[0mNSIZE\u001b[0m\u001b[0;34m,\u001b[0m \u001b[0mTIMES\u001b[0m\u001b[0;34m)\u001b[0m\u001b[0;34m\u001b[0m\u001b[0;34m\u001b[0m\u001b[0m\n\u001b[0m\u001b[1;32m     23\u001b[0m     \u001b[0mprint\u001b[0m\u001b[0;34m(\u001b[0m\u001b[0;34mf\"     list.insert() {list_time:>12.6} sec\"\u001b[0m\u001b[0;34m)\u001b[0m\u001b[0;34m\u001b[0m\u001b[0;34m\u001b[0m\u001b[0m\n\u001b[1;32m     24\u001b[0m     \u001b[0mprint\u001b[0m\u001b[0;34m(\u001b[0m\u001b[0;34mf\"deque.appendleft() {deq_time:>12.6} sec\"\u001b[0m\u001b[0;34m)\u001b[0m\u001b[0;34m\u001b[0m\u001b[0;34m\u001b[0m\u001b[0m\n",
      "\u001b[0;32m/var/folders/_c/5z9grn611_70x4_hw3rpx3040000gn/T/ipykernel_8140/1263217140.py\u001b[0m in \u001b[0;36mperf_timeit\u001b[0;34m(NSIZE, TIMES)\u001b[0m\n\u001b[1;32m     13\u001b[0m         \u001b[0;32mreturn\u001b[0m \u001b[0mperf_counter\u001b[0m\u001b[0;34m(\u001b[0m\u001b[0;34m)\u001b[0m \u001b[0;34m-\u001b[0m \u001b[0mstart\u001b[0m\u001b[0;34m\u001b[0m\u001b[0;34m\u001b[0m\u001b[0m\n\u001b[1;32m     14\u001b[0m \u001b[0;34m\u001b[0m\u001b[0m\n\u001b[0;32m---> 15\u001b[0;31m     \u001b[0mlist_time\u001b[0m \u001b[0;34m=\u001b[0m \u001b[0melapsed\u001b[0m\u001b[0;34m(\u001b[0m\u001b[0;32mNone\u001b[0m\u001b[0;34m)\u001b[0m\u001b[0;34m\u001b[0m\u001b[0;34m\u001b[0m\u001b[0m\n\u001b[0m\u001b[1;32m     16\u001b[0m     \u001b[0mdeq_time\u001b[0m  \u001b[0;34m=\u001b[0m \u001b[0melapsed\u001b[0m\u001b[0;34m(\u001b[0m\u001b[0;32mNone\u001b[0m\u001b[0;34m)\u001b[0m\u001b[0;34m\u001b[0m\u001b[0;34m\u001b[0m\u001b[0m\n\u001b[1;32m     17\u001b[0m     \u001b[0;32mreturn\u001b[0m \u001b[0mlist_time\u001b[0m\u001b[0;34m,\u001b[0m \u001b[0mdeq_time\u001b[0m\u001b[0;34m\u001b[0m\u001b[0;34m\u001b[0m\u001b[0m\n",
      "\u001b[0;32m/var/folders/_c/5z9grn611_70x4_hw3rpx3040000gn/T/ipykernel_8140/1263217140.py\u001b[0m in \u001b[0;36melapsed\u001b[0;34m(func)\u001b[0m\n\u001b[1;32m     10\u001b[0m         \u001b[0mstart\u001b[0m \u001b[0;34m=\u001b[0m \u001b[0mperf_counter\u001b[0m\u001b[0;34m(\u001b[0m\u001b[0;34m)\u001b[0m\u001b[0;34m\u001b[0m\u001b[0;34m\u001b[0m\u001b[0m\n\u001b[1;32m     11\u001b[0m         \u001b[0;32mfor\u001b[0m \u001b[0mi\u001b[0m \u001b[0;32min\u001b[0m \u001b[0mrange\u001b[0m\u001b[0;34m(\u001b[0m\u001b[0mTIMES\u001b[0m\u001b[0;34m)\u001b[0m\u001b[0;34m:\u001b[0m\u001b[0;34m\u001b[0m\u001b[0;34m\u001b[0m\u001b[0m\n\u001b[0;32m---> 12\u001b[0;31m             \u001b[0mfunc\u001b[0m\u001b[0;34m(\u001b[0m\u001b[0mi\u001b[0m\u001b[0;34m)\u001b[0m\u001b[0;34m\u001b[0m\u001b[0;34m\u001b[0m\u001b[0m\n\u001b[0m\u001b[1;32m     13\u001b[0m         \u001b[0;32mreturn\u001b[0m \u001b[0mperf_counter\u001b[0m\u001b[0;34m(\u001b[0m\u001b[0;34m)\u001b[0m \u001b[0;34m-\u001b[0m \u001b[0mstart\u001b[0m\u001b[0;34m\u001b[0m\u001b[0;34m\u001b[0m\u001b[0m\n\u001b[1;32m     14\u001b[0m \u001b[0;34m\u001b[0m\u001b[0m\n",
      "\u001b[0;31mTypeError\u001b[0m: 'NoneType' object is not callable"
     ]
    }
   ],
   "source": [
    "#%%writefile perf_counter3.py\n",
    "from collections import deque\n",
    "from time import perf_counter  # performance counter\n",
    "\n",
    "def perf_timeit(NSIZE, TIMES):\n",
    "    alist = list(range(NSIZE))\n",
    "    adeq = deque(range(NSIZE))\n",
    "\n",
    "    def elapsed(func):         # a helper function\n",
    "        start = perf_counter()\n",
    "        for i in range(TIMES):\n",
    "            func(i)\n",
    "        return perf_counter() - start\n",
    "    \n",
    "    list_time = elapsed(None) \n",
    "    deq_time  = elapsed(None)\n",
    "    return list_time, deq_time\n",
    "\n",
    "if __name__ == '__main__':\n",
    "    NSIZE = 100_000\n",
    "    TIMES = 100_000\n",
    "    list_time, deq_time = perf_timeit(NSIZE, TIMES)\n",
    "    print(f\"     list.insert() {list_time:>12.6} sec\")\n",
    "    print(f\"deque.appendleft() {deq_time:>12.6} sec\")\n",
    "    ratio = list_time / deq_time\n",
    "    print(f\"  list/deque ratio {ratio:>12.6} x faster\")"
   ]
  },
  {
   "cell_type": "markdown",
   "id": "bd2f3587-006f-42c2-b942-591ac8ed2491",
   "metadata": {},
   "source": [
    "## Step 4: Lambda function \n",
    "\n",
    "파이썬에서는 런타임에 생성해서 이름없이 바로 사용할 수 있는 람다 함수를 지원합니다. 일급 객체인 람다 함수는 익명 함수, 람다 표현식(Lambda expression)이라 부르기도 합니다. 간단히 함수로 정의해서 바로 사용하고 버릴 수 있는 형식입니다. 특히 람다 함수는 함수를 간편하게 작성할 수 있어서, 함수를 다른 함수의 인수(arguments)로 넣을 때 주로 사용합니다. 문법은 다음과 같습니다. \n",
    "\n",
    "\n",
    ">> `lambda arguments: expression` \n",
    "\n",
    "\n",
    "예제를 몇개 살펴 보면, 자연스럽게 익힐 수 있습니다. "
   ]
  },
  {
   "cell_type": "markdown",
   "id": "73a8d68b-f44a-48ee-8fcb-a2679a498fe3",
   "metadata": {},
   "source": [
    "__Example 1:__"
   ]
  },
  {
   "cell_type": "code",
   "execution_count": 4,
   "id": "f23567aa-d733-4203-9414-51c55f9056b5",
   "metadata": {},
   "outputs": [],
   "source": [
    "def times2plus(x, y):           # regular function \n",
    "    return x * 2 + y"
   ]
  },
  {
   "cell_type": "code",
   "execution_count": 5,
   "id": "7bbaf04f-e456-4af8-9ae9-4c8d806d1419",
   "metadata": {},
   "outputs": [
    {
     "data": {
      "text/plain": [
       "4"
      ]
     },
     "execution_count": 5,
     "metadata": {},
     "output_type": "execute_result"
    }
   ],
   "source": [
    "lambda x, y: x * 2 + y          # lambda function\n",
    "(lambda x, y: x * 2 + y)(1, 2)  # returns 4"
   ]
  },
  {
   "cell_type": "code",
   "execution_count": 6,
   "id": "ac96e120-83ac-44c7-83d0-af2baad5c9e8",
   "metadata": {},
   "outputs": [
    {
     "data": {
      "text/plain": [
       "10"
      ]
     },
     "execution_count": 6,
     "metadata": {},
     "output_type": "execute_result"
    }
   ],
   "source": [
    "func = lambda x, y: x * 2 + y\n",
    "func(3,4)                       "
   ]
  },
  {
   "cell_type": "markdown",
   "id": "889fa9da-f4c5-48d2-9672-e4b0fbc47de6",
   "metadata": {},
   "source": [
    "__Example 2:__"
   ]
  },
  {
   "cell_type": "code",
   "execution_count": 7,
   "id": "06f20d2f-e52f-402f-9f30-5b931f59bde1",
   "metadata": {},
   "outputs": [
    {
     "data": {
      "text/plain": [
       "['Cat', 'Dog', 'Cow']"
      ]
     },
     "execution_count": 7,
     "metadata": {},
     "output_type": "execute_result"
    }
   ],
   "source": [
    "list(map(lambda x: x.capitalize(), ['cat', 'dog', 'cow']))"
   ]
  },
  {
   "cell_type": "markdown",
   "id": "e8fac629-8ba1-4921-a618-e2e7aa659ca5",
   "metadata": {},
   "source": [
    "__Example 3:__\n",
    "\n",
    "아래는 `timeit()`을 실행하기 위해서, 함수를 str 형식으로 또한, 필요한 라이브러리와 변수들을 `timeit`에 인자들로 넘겨주는 setup을 설정해야 합니다. 그러나, 아래와 같이 `lambda`를 사용하면, setup을 설정할 필요가 없어집니다."
   ]
  },
  {
   "cell_type": "code",
   "execution_count": 8,
   "id": "8bd78445-ec59-4b34-b5e2-a3ac24ed33b4",
   "metadata": {},
   "outputs": [
    {
     "data": {
      "text/plain": [
       "0.0018100830000022938"
      ]
     },
     "execution_count": 8,
     "metadata": {},
     "output_type": "execute_result"
    }
   ],
   "source": [
    "from timeit import timeit\n",
    "from math import factorial\n",
    "timeit(\"factorial(999)\", \"from math import factorial\", number=10)"
   ]
  },
  {
   "cell_type": "code",
   "execution_count": 9,
   "id": "cc817d4d-261d-40cd-94e1-03fee7ec0a49",
   "metadata": {
    "tags": []
   },
   "outputs": [
    {
     "data": {
      "text/plain": [
       "0.0008719169999977794"
      ]
     },
     "execution_count": 9,
     "metadata": {},
     "output_type": "execute_result"
    }
   ],
   "source": [
    "timeit(lambda: factorial(999), number=10)"
   ]
  },
  {
   "cell_type": "markdown",
   "id": "c2929365-9f36-4203-8299-bc612edc7d00",
   "metadata": {},
   "source": [
    "## Step 5: 람다 함수를 사용하기\n",
    "\n",
    "위에서 람다 함수를 학습하였다면, 계속해서 다음을 진행하십시오\n",
    "- 시간을 측정하는 함수 `elpased(func)`의 매개변수/인자 즉 func로 넘겨 줄 두 함수 즉 `list insert()` 혹은 `deque` `appendleft()`를 일급 객체인 람다 함수로 아래 코드에서 `None`을 대체함으로 `elapsed()`를 호출하십시오.  "
   ]
  },
  {
   "cell_type": "code",
   "execution_count": 37,
   "id": "a04b0b40-a1c2-4d43-8429-d62381169a33",
   "metadata": {},
   "outputs": [
    {
     "name": "stdout",
     "output_type": "stream",
     "text": [
      "     list.insert()      4.83918 sec\n",
      "deque.appendleft()   0.00981763 sec\n",
      "  list/deque ratio      492.907 x faster\n"
     ]
    }
   ],
   "source": [
    "#%%writefile perf_counter3.py\n",
    "from collections import deque\n",
    "from time import perf_counter  # performance counter\n",
    "\n",
    "def perf_timeit(NSIZE, TIMES):\n",
    "    alist = list(range(NSIZE))\n",
    "    adeq = deque(range(NSIZE))\n",
    "\n",
    "    def elapsed(func):         # a helper function\n",
    "        start = perf_counter()\n",
    "        for i in range(TIMES):\n",
    "            func(i)\n",
    "        return perf_counter() - start\n",
    "    \n",
    "    list_time = elapsed(lambda x:alist.insert(0,x))\n",
    "    deq_time  = elapsed(lambda x:adeq.appendleft(x))\n",
    "    return list_time, deq_time\n",
    "\n",
    "if __name__ == '__main__':\n",
    "    NSIZE = 100_000\n",
    "    TIMES = 100_000\n",
    "    list_time, deq_time = perf_timeit(NSIZE, TIMES)\n",
    "    print(f\"     list.insert() {list_time:>12.6} sec\")\n",
    "    print(f\"deque.appendleft() {deq_time:>12.6} sec\")\n",
    "    ratio = list_time / deq_time\n",
    "    print(f\"  list/deque ratio {ratio:>12.6} x faster\")"
   ]
  },
  {
   "cell_type": "markdown",
   "id": "703fd59a-29da-4ec9-bd42-09504a7b5397",
   "metadata": {},
   "source": [
    "## Step 6: Profiling using `perf_timeit()`\n",
    "\n",
    "지금까지 우리는 샘플의 갯수 즉 문제의 크기 n을 일정한 수로 고정하여 성능을 분석하였습니다. \n",
    "\n",
    "- 이제는 문제의 크기 n을 일정한 범위 내로 설정하여, 예를 들어 2만부터 백만까지, 우리가 만든 `perf_timeit()`을 한번만 호출하여 두 작업의 성능에 대해 동시에 프로파일링하여 다음과 같은 결과를 도출하십시오.  \n",
    "\n",
    "각 학습자의 결과는 아래와 같은 형상이며, 일대일 매칭이 되는 것은 아닙니다.  "
   ]
  },
  {
   "cell_type": "markdown",
   "id": "73618a09-68e6-4380-a81c-2d13b6b1abcc",
   "metadata": {},
   "source": [
    "__Expected Output:__\n",
    "\n",
    "\n",
    "<center><img src=\"https://github.com/idebtor/DSpy/blob/b5c545e93482a06d27ad3df70eeeadfad5c3e0ea/images/chap3/deque_profiling.png?raw=true\" width=500></center>"
   ]
  },
  {
   "cell_type": "code",
   "execution_count": 11,
   "id": "6598ffe5-2e99-4e58-989f-5db51bfdce11",
   "metadata": {},
   "outputs": [],
   "source": [
    "#%%writefile perf_counter4.py\n",
    "from collections import deque\n",
    "from time import perf_counter  # performance counter\n",
    "\n",
    "def perf_timeit(NSIZE, TIMES):\n",
    "    alist = list(range(NSIZE))\n",
    "    adeq = deque(range(NSIZE))\n",
    "\n",
    "    def elapsed(func):         # a helper function\n",
    "        start = perf_counter()\n",
    "        for i in range(TIMES):\n",
    "            func(i)\n",
    "        return perf_counter() - start\n",
    "    \n",
    "    list_time = elapsed(lambda x:alist.insert(0,x))\n",
    "    deq_time  = elapsed(lambda x:adeq.appendleft(x))\n",
    "    return list_time, deq_time\n",
    "\n",
    "if __name__ == '__main__':\n",
    "    list_time = []    # list of list_time values\n",
    "    deque_time = []   # list of deque_time values\n",
    "    n = []            # list of samples or i for plotting\n",
    "    for i in range(20_000, 1_000_001, 20_000):\n",
    "        l,d=perf_timeit(i,100)\n",
    "        list_time.append(l)\n",
    "        deque_time.append(d)\n",
    "        n.append(i)"
   ]
  },
  {
   "cell_type": "code",
   "execution_count": 12,
   "id": "e34480d5-7217-453c-9061-57d41cb1402f",
   "metadata": {},
   "outputs": [
    {
     "data": {
      "image/png": "[encoded data removed]",
      "text/plain": [
       "<Figure size 576x432 with 1 Axes>"
      ]
     },
     "metadata": {
      "needs_background": "light"
     },
     "output_type": "display_data"
    }
   ],
   "source": [
    "import matplotlib.pylab as plt\n",
    "\n",
    "plt.figure(figsize=(8, 6))\n",
    "plt.scatter(n, list_time, label='list insert(0, i)', marker='o', color='r')\n",
    "plt.scatter(n, deque_time, label='deque appendleft(i)', marker='^', color='g')\n",
    "plt.axvline(0, color='black', linewidth=0.5)\n",
    "plt.axhline(0, color='black', linewidth=0.5)\n",
    "plt.xlabel('n, number of samples', fontsize = 16)\n",
    "plt.ylabel('second', fontsize = 16)\n",
    "plt.title('Time Complexity Comparison', fontsize = 16)\n",
    "plt.legend(fontsize = 16)\n",
    "plt.show()"
   ]
  },
  {
   "cell_type": "markdown",
   "id": "84eeb3a3-6d9c-475a-a2c4-0714a3d1cfc5",
   "metadata": {},
   "source": [
    "## Step 7: Profiling using `timeit()` and `lambda`\n",
    "\n",
    "학습자들 중에 `lambda`에 대하여 익숙하지 않다면, 본 강의 노트의 아래 부분에 기술되어 있는 것을 먼저 참조한 후에 진행하면 도움이 될 것입니다. \n",
    "\n",
    "- 여기서는 우리가 만들어낸 `perf_timeit()` 대신, 기존의 `timeit()`과 `lambda`를 사용하여 동일한 내용의 프로파일링을 실행하십시오. 결과는 아래와 같은 형상이며, 일대일 매칭이 되는 것은 아닙니다.  \n",
    "\n",
    "- 이 부분이 어렵다면, 본 강의 노트의 아래 부분에 있는 \"Timeit에서 람다함수 사용하기\" 부분을 먼저 학습한 후에 진행하십시오. "
   ]
  },
  {
   "cell_type": "markdown",
   "id": "3d17fb14-8141-488e-b95a-ce9a49e8f845",
   "metadata": {},
   "source": [
    "__Expected Output:__ \n",
    "\n",
    "<center><img src=\"https://github.com/idebtor/DSpy/blob/b5c545e93482a06d27ad3df70eeeadfad5c3e0ea/images/chap3/deque_profiling.png?raw=true\" width=500></center>"
   ]
  },
  {
   "cell_type": "code",
   "execution_count": 35,
   "id": "3a259965-f0d7-425e-821f-b55d9ed89de0",
   "metadata": {},
   "outputs": [],
   "source": [
    "from timeit import timeit\n",
    "from collections import deque\n",
    "\n",
    "list_time = []    # list of list_time values\n",
    "deque_time = []   # list of deque_time values\n",
    "n = []            # list of samples or i \n",
    "\n",
    "for i in range(20_000, 1_000_001, 20_000):\n",
    "    x = list(range(i))\n",
    "    list_time.append(timeit(lambda: x.insert(0, x), number = 100))\n",
    "    x=deque(range(i))\n",
    "    deque_time.append(timeit(lambda: x.appendleft(x), number = 100))\n",
    "    n.append(i)"
   ]
  },
  {
   "cell_type": "code",
   "execution_count": 36,
   "id": "416821f7-2e56-48e0-82ba-ba8e0112f9a5",
   "metadata": {},
   "outputs": [
    {
     "data": {
      "image/png": "[encoded data removed]",
      "text/plain": [
       "<Figure size 576x432 with 1 Axes>"
      ]
     },
     "metadata": {
      "needs_background": "light"
     },
     "output_type": "display_data"
    }
   ],
   "source": [
    "import matplotlib.pylab as plt\n",
    "\n",
    "plt.figure(figsize=(8, 6))\n",
    "plt.scatter(n, list_time, label='list insert(0, i)', marker='o', color='r')\n",
    "plt.scatter(n, deque_time, label='deque appendleft(i)', marker='^', color='g')\n",
    "plt.axvline(0, color='black', linewidth=0.5)\n",
    "plt.axhline(0, color='black', linewidth=0.5)\n",
    "plt.xlabel('n, number of samples', fontsize = 16)\n",
    "plt.ylabel('second', fontsize = 16)\n",
    "plt.title('Time Complexity Comparison', fontsize = 16)\n",
    "plt.legend(fontsize = 16)\n",
    "plt.show()"
   ]
  },
  {
   "cell_type": "markdown",
   "id": "83edc6dd-463a-427a-85e7-b5f2a4a07b56",
   "metadata": {},
   "source": [
    "# Timeit에서 람다 함수 사용하기"
   ]
  },
  {
   "cell_type": "markdown",
   "id": "0d8bfde4-2149-4147-a2d0-a478b9244598",
   "metadata": {},
   "source": [
    "## `Using timeit.timeit`"
   ]
  },
  {
   "cell_type": "code",
   "execution_count": 18,
   "id": "8688583a-b991-4529-9f58-1ad474754853",
   "metadata": {
    "tags": []
   },
   "outputs": [
    {
     "name": "stdout",
     "output_type": "stream",
     "text": [
      "     list.insert() 4.79621 sec\n",
      "deque.appendleft() 0.00392071 sec  (1223.3x faster)\n"
     ]
    }
   ],
   "source": [
    "from timeit import timeit\n",
    "from collections import deque\n",
    "\n",
    "alist = list(range(100_000))\n",
    "adeq  = deque(range(100_000))\n",
    "\n",
    "list_time  = timeit(\"alist.insert(0, 1)\", setup=\"from __main__ import alist\", number = 100_000)\n",
    "deque_time = timeit(\"adeq.appendleft(1)\", setup=\"from __main__ import adeq\", number = 100_000)\n",
    "gain = list_time / deque_time\n",
    "\n",
    "print(f\"     list.insert() {list_time:.6} sec\")\n",
    "print(f\"deque.appendleft() {deque_time:.6} sec  ({gain:.6}x faster)\")"
   ]
  },
  {
   "cell_type": "markdown",
   "id": "f6ff58c1-4543-46b5-90f8-f41e485bfc19",
   "metadata": {},
   "source": [
    "## `Using timeit.timeit` and Lambda function\n",
    "\n",
    "위의 코드는 lambda function을 사용하면, 아래와 같이 좀 더 간소화 할 수 있습니다. "
   ]
  },
  {
   "cell_type": "code",
   "execution_count": 19,
   "id": "2d46eb0d-f0ec-4b82-8d0b-5be8c3d5b52a",
   "metadata": {},
   "outputs": [
    {
     "name": "stdout",
     "output_type": "stream",
     "text": [
      "     list.insert() 4.84037 sec\n",
      "deque.appendleft() 0.00761521 sec  (635.619x faster)\n"
     ]
    }
   ],
   "source": [
    "from timeit import timeit\n",
    "from collections import deque\n",
    "\n",
    "alist = list(range(100_000))\n",
    "adeq  = deque(range(100_000))\n",
    "\n",
    "list_time  = timeit(lambda: alist.insert(0, 1), number = 100_000)\n",
    "deque_time = timeit(lambda: adeq.appendleft(1), number = 100_000)\n",
    "gain = list_time / deque_time\n",
    "\n",
    "print(f\"     list.insert() {list_time:.6} sec\")\n",
    "print(f\"deque.appendleft() {deque_time:.6} sec  ({gain:.6}x faster)\")"
   ]
  },
  {
   "cell_type": "markdown",
   "id": "711776d6-b544-49a9-a24a-40230dff582a",
   "metadata": {},
   "source": [
    "## `Using timeit.Timer`"
   ]
  },
  {
   "cell_type": "code",
   "execution_count": 20,
   "id": "abd06275-feed-452d-8db9-05e17aecce86",
   "metadata": {},
   "outputs": [
    {
     "name": "stdout",
     "output_type": "stream",
     "text": [
      "     list.insert() 4.8148 sec\n",
      "deque.appendleft() 0.00398629 sec  (1207.84x faster)\n"
     ]
    }
   ],
   "source": [
    "from timeit import Timer\n",
    "from collections import deque\n",
    "\n",
    "alist = list(range(100_000))\n",
    "adeq = deque(range(100_000))\n",
    "\n",
    "list_time  = Timer(\"alist.insert(0, 1)\", setup=\"from __main__ import alist\").timeit(number = 100_000)\n",
    "deque_time = Timer(\"adeq.appendleft(1)\", setup=\"from __main__ import adeq\").timeit(number = 100_000)\n",
    "gain = list_time / deque_time\n",
    "\n",
    "print(f\"     list.insert() {list_time:.6} sec\")\n",
    "print(f\"deque.appendleft() {deque_time:.6} sec  ({gain:.6}x faster)\")"
   ]
  },
  {
   "cell_type": "markdown",
   "id": "0b5d87f7-580a-44a1-ab5b-9c0f74b8ba6d",
   "metadata": {},
   "source": [
    "## `Using timeit.Timer` and Lambda function\n",
    "\n",
    "위의 코드는 lambda function을 사용하면, 아래와 같이 좀 더 간소화 할 수 있습니다. "
   ]
  },
  {
   "cell_type": "code",
   "execution_count": 21,
   "id": "ed3410d5-e9d0-44a3-b371-07b0b3a276da",
   "metadata": {},
   "outputs": [
    {
     "name": "stdout",
     "output_type": "stream",
     "text": [
      "     list.insert() 4.82741 sec\n",
      "deque.appendleft() 0.00770171 sec  (626.797x faster)\n"
     ]
    }
   ],
   "source": [
    "from timeit import Timer\n",
    "from collections import deque\n",
    "\n",
    "alist = list(range(100_000))\n",
    "adeq = deque(range(100_000))\n",
    "\n",
    "list_time  = Timer(lambda: alist.insert(0, 1)).timeit(number = 100_000)\n",
    "deque_time = Timer(lambda: adeq.appendleft(1)).timeit(number = 100_000)\n",
    "gain = list_time / deque_time\n",
    "\n",
    "print(f\"     list.insert() {list_time:.6} sec\")\n",
    "print(f\"deque.appendleft() {deque_time:.6} sec  ({gain:.6}x faster)\")"
   ]
  },
  {
   "cell_type": "markdown",
   "id": "b318423e-96ed-4132-99b5-5a5cdf18dea6",
   "metadata": {},
   "source": [
    "# Reference\n",
    "- Python's deque: Implement Efficient Queues and Stacks, [Here](https://realpython.com/python-deque/)"
   ]
  },
  {
   "cell_type": "markdown",
   "id": "4429ea88-f37a-4dd5-b9d7-bb405f330aa3",
   "metadata": {},
   "source": [
    "------\n",
    "또 어려서부터 성경을 알았나니 성경은 능히 너로 하여금 그리스도 예수 안에 있는 믿음으로 말미암아 구원에 이르는 지혜가 있게 하느니라 모든 성경은 하나님의 감동으로 된 것으로 교훈과 책망과 바르게 함과 의로 교육하기에 유익하니 이는 하나님의 사람으로 온전하게 하며 모든 선한 일을 행할 능력을 갖추게 하려 함이라 (딤후3:15-17)"
   ]
  }
 ],
 "metadata": {
  "kernelspec": {
   "display_name": "Python 3 (ipykernel)",
   "language": "python",
   "name": "python3"
  },
  "language_info": {
   "codemirror_mode": {
    "name": "ipython",
    "version": 3
   },
   "file_extension": ".py",
   "mimetype": "text/x-python",
   "name": "python",
   "nbconvert_exporter": "python",
   "pygments_lexer": "ipython3",
   "version": "3.9.7"
  }
 },
 "nbformat": 4,
 "nbformat_minor": 5
}
