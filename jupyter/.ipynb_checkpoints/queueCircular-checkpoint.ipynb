{
 "cells": [
  {
   "cell_type": "code",
   "execution_count": 4,
   "id": "69dc6451-ba16-4545-aaec-aac4ae0a9e3f",
   "metadata": {},
   "outputs": [],
   "source": [
    "#%%writefile queueCircular.py\n",
    "class QueueCircular:\n",
    "    def __init__(self,size):\n",
    "        self.items=[None]*size\n",
    "        self.MAX=size\n",
    "        self.front=-1\n",
    "        self.back=-1\n",
    "    \n",
    "    def __str__(self):\n",
    "        is_empty=True\n",
    "        for items in self.items:\n",
    "            if items != None:\n",
    "                is_empty=False\n",
    "        if is_empty==True:\n",
    "            return f\"QueueCircular({self.items})\"\n",
    "        \n",
    "    def enqueue(self,item): #if not full\n",
    "        if (self.back+1)%self.MAX ==self.front: #queue is full\n",
    "            print(\"The circular queue is full\")\n",
    "        elif self.front==-1: #빈 queue에 처음 담을 때\n",
    "            self.front=0\n",
    "            self.back=0\n",
    "            self.items[self.back]=item\n",
    "        else:\n",
    "            self.back=(self.back+1)%self.MAX # 그다음 칸에 enqueue\n",
    "            self.items[self.back]=item\n",
    "    \n",
    "    def dequeue(self): #if not empty\n",
    "        if self.front==-1: #비어있을때\n",
    "            print(\"The circular queue is empty\")\n",
    "        elif self.front==self.back: #item 하나남았을 때\n",
    "            temp=self.items[self.front]\n",
    "            self.front=-1\n",
    "            self.back=-1\n",
    "            self.items[self.back]=temp\n",
    "        else:#일반적인 경우\n",
    "            temp=self.items[self.front]\n",
    "            self.front=(self.front+1)%self.MAX\n",
    "            return temp"
   ]
  },
  {
   "cell_type": "code",
   "execution_count": 5,
   "id": "d95e1c4a-af7e-48ad-b201-e1b407466fe6",
   "metadata": {},
   "outputs": [
    {
     "name": "stdout",
     "output_type": "stream",
     "text": [
      "Front: 2 points (25)\n",
      "Back: 4 points (30)\n"
     ]
    }
   ],
   "source": [
    "#%%writefile -a queueCircular.py\n",
    "if __name__=='__main__':\n",
    "    q=QueueCircular(10)\n",
    "    q.enqueue(12)\n",
    "    q.enqueue(17)\n",
    "    q.enqueue(25)\n",
    "    q.enqueue(11)\n",
    "    q.dequeue()\n",
    "    q.dequeue()\n",
    "    q.enqueue(30)\n",
    "    \n",
    "    print(f\"Front: {q.front} points ({q.items[q.front]})\")\n",
    "    print(f\"Back: {q.back} points ({q.items[q.back]})\")"
   ]
  },
  {
   "cell_type": "code",
   "execution_count": 8,
   "id": "ab894545-431b-4a05-aa04-852a8de7eeff",
   "metadata": {},
   "outputs": [
    {
     "name": "stdout",
     "output_type": "stream",
     "text": [
      "QueueCircular([None, None, None, None])\n",
      "The circular queue is full\n"
     ]
    },
    {
     "ename": "TypeError",
     "evalue": "__str__ returned non-string (type NoneType)",
     "output_type": "error",
     "traceback": [
      "\u001b[0;31m---------------------------------------------------------------------------\u001b[0m",
      "\u001b[0;31mTypeError\u001b[0m                                 Traceback (most recent call last)",
      "\u001b[0;32m/var/folders/_c/5z9grn611_70x4_hw3rpx3040000gn/T/ipykernel_11054/2203446170.py\u001b[0m in \u001b[0;36m<module>\u001b[0;34m\u001b[0m\n\u001b[1;32m      7\u001b[0m     \u001b[0mq\u001b[0m\u001b[0;34m.\u001b[0m\u001b[0menqueue\u001b[0m\u001b[0;34m(\u001b[0m\u001b[0;36m11\u001b[0m\u001b[0;34m)\u001b[0m\u001b[0;34m\u001b[0m\u001b[0;34m\u001b[0m\u001b[0m\n\u001b[1;32m      8\u001b[0m     \u001b[0mq\u001b[0m\u001b[0;34m.\u001b[0m\u001b[0menqueue\u001b[0m\u001b[0;34m(\u001b[0m\u001b[0;36m30\u001b[0m\u001b[0;34m)\u001b[0m\u001b[0;34m\u001b[0m\u001b[0;34m\u001b[0m\u001b[0m\n\u001b[0;32m----> 9\u001b[0;31m     \u001b[0mprint\u001b[0m\u001b[0;34m(\u001b[0m\u001b[0mq\u001b[0m\u001b[0;34m)\u001b[0m\u001b[0;34m\u001b[0m\u001b[0;34m\u001b[0m\u001b[0m\n\u001b[0m\u001b[1;32m     10\u001b[0m     \u001b[0mq\u001b[0m\u001b[0;34m.\u001b[0m\u001b[0mdequeue\u001b[0m\u001b[0;34m(\u001b[0m\u001b[0;34m)\u001b[0m\u001b[0;34m\u001b[0m\u001b[0;34m\u001b[0m\u001b[0m\n\u001b[1;32m     11\u001b[0m     \u001b[0mq\u001b[0m\u001b[0;34m.\u001b[0m\u001b[0mdequeue\u001b[0m\u001b[0;34m(\u001b[0m\u001b[0;34m)\u001b[0m\u001b[0;34m\u001b[0m\u001b[0;34m\u001b[0m\u001b[0m\n",
      "\u001b[0;31mTypeError\u001b[0m: __str__ returned non-string (type NoneType)"
     ]
    }
   ],
   "source": [
    "if __name__=='__main__':\n",
    "    q=QueueCircular(4)\n",
    "    print(q)\n",
    "    q.enqueue(12)\n",
    "    q.enqueue(17)\n",
    "    q.enqueue(25)\n",
    "    q.enqueue(11)\n",
    "    q.enqueue(30)\n",
    "    print(q)\n",
    "    q.dequeue()\n",
    "    q.dequeue()\n",
    "    print(q)"
   ]
  },
  {
   "cell_type": "code",
   "execution_count": 9,
   "id": "dfd98125-2fff-4118-89d2-dc777b98236d",
   "metadata": {},
   "outputs": [
    {
     "name": "stdout",
     "output_type": "stream",
     "text": [
      "QueueCircular([None, None, None, None, None])\n"
     ]
    },
    {
     "ename": "TypeError",
     "evalue": "__str__ returned non-string (type NoneType)",
     "output_type": "error",
     "traceback": [
      "\u001b[0;31m---------------------------------------------------------------------------\u001b[0m",
      "\u001b[0;31mTypeError\u001b[0m                                 Traceback (most recent call last)",
      "\u001b[0;32m/var/folders/_c/5z9grn611_70x4_hw3rpx3040000gn/T/ipykernel_11054/2120364813.py\u001b[0m in \u001b[0;36m<module>\u001b[0;34m\u001b[0m\n\u001b[1;32m      4\u001b[0m     \u001b[0;32mfor\u001b[0m \u001b[0mi\u001b[0m \u001b[0;32min\u001b[0m \u001b[0mrange\u001b[0m\u001b[0;34m(\u001b[0m\u001b[0;36m5\u001b[0m\u001b[0;34m,\u001b[0m\u001b[0;36m10\u001b[0m\u001b[0;34m)\u001b[0m\u001b[0;34m:\u001b[0m\u001b[0;34m\u001b[0m\u001b[0;34m\u001b[0m\u001b[0m\n\u001b[1;32m      5\u001b[0m         \u001b[0mq\u001b[0m\u001b[0;34m.\u001b[0m\u001b[0menqueue\u001b[0m\u001b[0;34m(\u001b[0m\u001b[0mi\u001b[0m\u001b[0;34m)\u001b[0m\u001b[0;34m\u001b[0m\u001b[0;34m\u001b[0m\u001b[0m\n\u001b[0;32m----> 6\u001b[0;31m     \u001b[0mprint\u001b[0m\u001b[0;34m(\u001b[0m\u001b[0mq\u001b[0m\u001b[0;34m)\u001b[0m\u001b[0;34m\u001b[0m\u001b[0;34m\u001b[0m\u001b[0m\n\u001b[0m\u001b[1;32m      7\u001b[0m     \u001b[0mq\u001b[0m\u001b[0;34m.\u001b[0m\u001b[0mdequeue\u001b[0m\u001b[0;34m(\u001b[0m\u001b[0;34m)\u001b[0m\u001b[0;34m\u001b[0m\u001b[0;34m\u001b[0m\u001b[0m\n\u001b[1;32m      8\u001b[0m     \u001b[0mq\u001b[0m\u001b[0;34m.\u001b[0m\u001b[0mdequeue\u001b[0m\u001b[0;34m(\u001b[0m\u001b[0;34m)\u001b[0m\u001b[0;34m\u001b[0m\u001b[0;34m\u001b[0m\u001b[0m\n",
      "\u001b[0;31mTypeError\u001b[0m: __str__ returned non-string (type NoneType)"
     ]
    }
   ],
   "source": [
    "if __name__=='__main__':\n",
    "    q=QueueCircular(5)\n",
    "    print(q)\n",
    "    for i in range(5,10):\n",
    "        q.enqueue(i)\n",
    "    print(q)\n",
    "    q.dequeue()\n",
    "    q.dequeue()\n",
    "    print(q)\n",
    "    for i in range(3):\n",
    "        q.enqueue(i)\n",
    "    print(q)"
   ]
  },
  {
   "cell_type": "code",
   "execution_count": 5,
   "id": "1f29e6dc-fe42-4f23-9e6b-200e9a9895f2",
   "metadata": {},
   "outputs": [
    {
     "name": "stdout",
     "output_type": "stream",
     "text": [
      "deque([1, 2, 3, 4], maxlen=4)\n",
      "deque([2, 3, 4, 5], maxlen=4)\n",
      "deque([3, 4, 5, 6], maxlen=4)\n",
      "deque([2, 3, 4, 5], maxlen=4)\n",
      "deque([1, 2, 3, 4], maxlen=4)\n"
     ]
    },
    {
     "data": {
      "text/plain": [
       "4"
      ]
     },
     "execution_count": 5,
     "metadata": {},
     "output_type": "execute_result"
    }
   ],
   "source": [
    "from collections import deque\n",
    "\n",
    "fourOnly=deque([0,1,2,3,4],maxlen=4)\n",
    "print(fourOnly)\n",
    "fourOnly.append(5)\n",
    "print(fourOnly)\n",
    "fourOnly.append(6)\n",
    "print(fourOnly)\n",
    "fourOnly.appendleft(2)\n",
    "print(fourOnly)\n",
    "fourOnly.appendleft(1)\n",
    "print(fourOnly)\n",
    "fourOnly.maxlen"
   ]
  }
 ],
 "metadata": {
  "kernelspec": {
   "display_name": "Python 3 (ipykernel)",
   "language": "python",
   "name": "python3"
  },
  "language_info": {
   "codemirror_mode": {
    "name": "ipython",
    "version": 3
   },
   "file_extension": ".py",
   "mimetype": "text/x-python",
   "name": "python",
   "nbconvert_exporter": "python",
   "pygments_lexer": "ipython3",
   "version": "3.9.7"
  }
 },
 "nbformat": 4,
 "nbformat_minor": 5
}
