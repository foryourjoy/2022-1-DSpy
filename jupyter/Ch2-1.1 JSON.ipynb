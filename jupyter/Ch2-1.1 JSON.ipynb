{
 "cells": [
  {
   "cell_type": "markdown",
   "id": "bfb7cd08-eaed-4448-a801-eb01f4000caf",
   "metadata": {},
   "source": [
    "이 율법책을 네 입에서 떠나지 말게 하며 주야로 그것을 묵상하여 그 안에 기록된 대로 다 지켜 행하라 그리하면 네 길이 평탄하게 될 것이며 네가 형통하리라 (수1:8)\n",
    "\n",
    "-------\n",
    "<center><img src=\"https://github.com/idebtor/DSpy/blob/6b3676c3de29f85d2e7f30679676d1fd96d88b17/images/WelcomeToDataStructures.jpg?raw=true\" width=1000></center>\n",
    "\n",
    "__NOTE:__ The following materials have been compiled and adapted from the numerous sources including my own. Please help me to keep this tutorial up-to-date by reporting any issues or questions. Send any comments or criticisms to `idebtor@gmail.com` Your assistances and comments will be appreciated.\n",
    "\n",
    "--------"
   ]
  },
  {
   "cell_type": "markdown",
   "id": "b5e2a315-d073-4190-a850-eaadc8f8d328",
   "metadata": {},
   "source": [
    "<b style=\"font-size:30px\"> Chapter 2-1. Data Strcutures - JSON </b>\n",
    "\n",
    "__학습 목표__\n",
    "\n",
    "- JSON 데이터 구조를 익힌다\n",
    "- JSON 데이터 구조를 활용하는 방법을 익힌다\n",
    "\n",
    "__학습 내용__\n",
    "1. JSON 데이터 구조 소개과 특성\n",
    "1. JSON 데이터 구조\n",
    "1. JSON 파일과 파이썬 JSON 객체 다루기 \n",
    "1. JSON 예제 문제\n",
    "1. 웹에서 JSON파일 활용하기"
   ]
  },
  {
   "cell_type": "markdown",
   "id": "1898986b-f525-432c-916b-f2938e7431e9",
   "metadata": {},
   "source": [
    "# JSON: JavaScript Object Notation\n",
    "\n",
    "1. JSON은 JavaScript Object Notation의 약자입니다.\n",
    "1. JSON은 사람이 읽을 수 있는 텍스트 기반의 데이터 교환 표준입니다.\n",
    "1. JSON은 XML의 대안으로서 좀 더 쉽게 데이터를 교환하고 저장하기 위하여 고안되었습니다.\n",
    "1. JSON은 텍스트 기반이므로 어떠한 프로그래밍 언어에서도 JSON 데이터를 읽고 사용할 수 있습니다.\n",
    "\n",
    "__JSON의 특징__\n",
    "1. JSON은 자바스크립트를 확장하여 만들어졌습니다.\n",
    "1. JSON은 자바스크립트 객체 표기법을 따릅니다.\n",
    "1. JSON은 사람과 기계가 모두 읽기 편하도록 고안되었습니다.\n",
    "1. JSON은 프로그래밍 언어와 운영체제에 독립적입니다."
   ]
  },
  {
   "cell_type": "markdown",
   "id": "deda4cdd-2094-4f1a-9bf9-b39a73796d27",
   "metadata": {},
   "source": [
    "# JSON의 구조\n",
    "1. JSON 데이터는 이름과 값의 쌍으로 이루어집니다.\n",
    "1. JSON 데이터는 쉼표(,)로 나열됩니다.\n",
    "1. 객체(object)는 중괄호(`{ }`)로 둘러쌓아 표현합니다.\n",
    "1. 배열(array)은 대괄호(`[ ]`)로 둘러쌓아 표현합니다."
   ]
  },
  {
   "cell_type": "markdown",
   "id": "a0db4ae8-2d6b-4c99-bdb2-22453f92e890",
   "metadata": {},
   "source": [
    "## JSON Data Types\n",
    "JSON에는 다음과 같은 데이터 타입들이 있습니다. \n",
    "\n",
    "1. 문자열(Strings) – `\"Hello World\", \"James\" `\n",
    "1. 숫자(Numbers) – `10, 1.5,  -30, 1.2e10 `\n",
    "1. 불리언(Booleans) – `true, false`\n",
    "1. 배열(Arrays) – `[1, 2, 3], [\"Hello\", \"World\"]`\n",
    "1. 객체(Objects) – `{\"key\": \"value\"}, {\"name\": \"Joe\", \"age\": 22}`\n",
    "1. null – `null`"
   ]
  },
  {
   "cell_type": "markdown",
   "id": "ddeee7e9-30ac-4dde-9795-27c7afceb32c",
   "metadata": {},
   "source": [
    "JSON 타입은 다음과 같은 Python타입과 일대일 호환은 아니지만, 상당히 유사하게 호환할 수 있습니다. \n",
    "\n",
    "\n",
    "|JSON | Python  |\n",
    "|: ------|:-----|\n",
    "| object | dict   | \n",
    "| array  | list, tuple |\n",
    "| string | str |\n",
    "| number | int, float, int- & float-derived Enums |\n",
    "| true   | True | \n",
    "| false  | False | \n",
    "| null   | None |"
   ]
  },
  {
   "cell_type": "markdown",
   "id": "64bf5cd5-e67a-4cd1-9a0d-ec6fa42b0cbd",
   "metadata": {},
   "source": [
    "## JSON Objects(객체) \n",
    "\n",
    "1. JSON 객체는 중괄호(`{ }`)로 둘러쌓아 표현합니다.\n",
    "1. JSON 객체는 쉼표(`,`)를 사용하여 여러 속성(property)를 포함할 수 있습니다.\n",
    "\n",
    "__Example:__\n",
    "```\n",
    "        {\n",
    "            \"name\": \"Joe Blow\",\n",
    "            \"phone\": \"010-555-1234\",\n",
    "            \"email\": [\"jb@gmail.com\", \"jb@workmail.com\"],\n",
    "            \"coder\": false\n",
    "        }\n",
    "```"
   ]
  },
  {
   "cell_type": "markdown",
   "id": "cae9bc7d-f21c-4a1f-b46f-09021cfa9d99",
   "metadata": {},
   "source": [
    "## JSON Arrays(배열)\n",
    "\n",
    "1. JSON 배열은 대괄호(`[ ]`)로 둘러쌓아 표현합니다.\n",
    "1. JSON 배열은 쉼표(`,`)를 사용하여 여러 JSON 데이터를 포함할 수 있습니다.\n",
    "\n",
    "__Example:__  \n",
    "\n",
    "아래는 이름이 \"peope\"이고, 세 개의 JSON 객체를 요소로 가지는 JSON 배열의 예제입니다.\n",
    "\n",
    "```\n",
    "    \"people\": [ \n",
    "        {   \"name\": \"Joe Blow\", \"phone\": \"010-555-1234\", \"email\": [\"jb@gmail.com\", \"jb@workmail.com\"] },\n",
    "        {   \"name\": \"Jane Lee\", \"phone\": \"010-555-4321\", \"email\": null  }, \n",
    "        {   \"name\": \"John Doe\", \"phone\": \"011-911-4819\", \"email\": [\"jd@gmail.com\"]  }\n",
    "    ]\n",
    "```\n",
    "\n",
    "또한 \"people\"배열 안에 있는 다음과 같은 \"email\" 배열도 포함하고 있습니다. \n",
    "```\n",
    "\"email\": [\"jb@gmail.com\", \"jb@workmail.com\"]\n",
    "\"email\": [\"jd@gmail.com\"] \n",
    "```"
   ]
  },
  {
   "cell_type": "markdown",
   "id": "dd916ba1-5936-4054-818d-561ab2bbbdfe",
   "metadata": {},
   "source": [
    "# JSON 파일과 파이썬 JSON객체를 다루기 \n",
    "- JSON 파일을 손으로 작성하고, 파이썬 코드로 읽어오기\n",
    "- JSON 파일을 파이썬 코드로 작성하기\n",
    "\n",
    "이러한 작업들 위하여 __json 모듈__ 을 사용하며, 가장 중요한 4개의 함수는 다음과 같습니다. \n",
    "\n",
    "- `json` 모듈은 파이썬에 포함되어 있어서 추가적인 설치가 필요 없습니다.\n"
   ]
  },
  {
   "cell_type": "markdown",
   "id": "1d5c0f1c-1cab-487c-b74e-9b1a8d4cba92",
   "metadata": {},
   "source": [
    "## JSON파일을 파이썬 객체화하기(디코딩, 역직렬화)\n",
    "\n",
    "- `json.load()`: 파일에 있는 JSON 포맷 데이터를 Python 객체로 읽어오기 (역직렬화 혹은 디코딩이라고 부르기도 합니다)\n",
    "- `json.loads()`: 메모리에 있는 JSON 형식의 문자열로 되어 있는 입력자료를 받아 파이썬 객체로 전환합니다.  \n",
    "\n",
    "<center><img src=\"https://github.com/idebtor/DSpy/blob/b67467b971cf48c14faf7c8ebed7a94871dbb2ad/images/chap1/Chapter%201-25json_load.jpg?raw=true\" width=\"100%\">\n",
    "<center>그림1. load() and loads() 비교</center>"
   ]
  },
  {
   "cell_type": "markdown",
   "id": "7bd7c70e-bea6-4567-9d58-325588fa6473",
   "metadata": {},
   "source": [
    "## 파이썬 객체로 JSON파일 만들기(인코딩, 직렬화)\n",
    "\n",
    "- `json.dump()`: Python객체를 파일에 저장할 때(직렬화, 인코딩) 사용합니다. \n",
    "- `json.dumps()`: Python객체를 문자열로 출력할 때 사용합니다. \n",
    "\n",
    "<center><img src=\"https://github.com/idebtor/DSpy/blob/b67467b971cf48c14faf7c8ebed7a94871dbb2ad/images/chap1/Chapter%201-27json_dump.jpg?raw=true\" width=\"100%\">\n",
    "\n",
    "<center>그림2. dump() and dumps() 비교</center>"
   ]
  },
  {
   "cell_type": "markdown",
   "id": "738af23d-c9d3-456a-b32d-0b9fa39787e0",
   "metadata": {},
   "source": [
    "# JSON Example - JSON String Type"
   ]
  },
  {
   "cell_type": "markdown",
   "id": "09a72d91-d22c-4e13-adc1-a477756935e3",
   "metadata": {},
   "source": [
    "아래는 여러 줄로 구성된 파이썬 str type의 문자열이 있습니다. 이는 또한 json에도 적합한 문자열입니다. 문자열의 내부를 살펴보면, 마치 파이썬의 `dict type` 즉 `key:value` 쌍으로 자료가 구성되어 있습니다. \n",
    "- \"people\"이라는 `key`가 있고, 그 `value`로 `list`가 있는데, \n",
    "- 그 `list`안에는 또 두 개의 `dict type` 자료(객체)가 있습니다. \n",
    "- 그 두 개의 자료 안에 각각 4개의 `key:value`쌍으로 구성된 자료(객체)가 있습니다. \n",
    "- 각 객체는 `name, phone, email, coder`라는 `key`와 `value`를 저장하고 있습니다."
   ]
  },
  {
   "cell_type": "code",
   "execution_count": 1,
   "id": "25b0b29a-3d36-416c-980d-a1c8f6059faf",
   "metadata": {},
   "outputs": [],
   "source": [
    "import json\n",
    "\n",
    "people_string = \"\"\"\n",
    "{\n",
    "    \"people\": [\n",
    "        {\n",
    "            \"name\": \"Joe Blow\",\n",
    "            \"phone\": \"010-555-1234\",\n",
    "            \"email\": [\"jb@gmail.com\", \"jb@workmail.com\"],\n",
    "            \"coder\": false\n",
    "        },\n",
    "        {\n",
    "            \"name\": \"Jane Lee\",\n",
    "            \"phone\": \"010-555-4321\",\n",
    "            \"email\": null,\n",
    "            \"coder\": true\n",
    "        }\n",
    "    ]\n",
    "}\n",
    "\"\"\""
   ]
  },
  {
   "cell_type": "markdown",
   "id": "eb79089f-6353-4646-838f-d6053e2ed042",
   "metadata": {},
   "source": [
    "## JSON 형식의 문자열을 파이썬 객체로 변환하기 \n",
    "위의 문자열은 json 객체로 작성된 것인데, 이것을 우리가 파이썬 코드로 이 자료들을 다룰 수 있도록 파이썬 객체로 쉽게 변환할 수 있습니다. 다음과 같은 `json.loads()`를 사용하여 만든 파이썬 객체를 출력해봅니다. \n",
    "\n",
    "- json.load() - JSON 형식의 파일을 읽고, 파이썬 객체로 전환합니다. \n",
    "- json.loads() - JSON 형식의 문자열로 되어 있는 입력자료를 받아 파이썬 객체로 전환합니다.  \n",
    "\n",
    "__Sample Run:__\n",
    "```json\n",
    "<class 'dict'>\n",
    "{'people': [{'name': 'Joe Blow', 'phone': '010-555-1234', 'email': ['jb@gmail.com', 'jb@workmail.com'], 'coder': False}, {'name': 'Jane Lee', 'phone': '010-555-4321', 'email': None, 'coder': True}]}\n",
    "```"
   ]
  },
  {
   "cell_type": "code",
   "execution_count": 2,
   "id": "7241ed76-8d8a-451f-8d9b-03a85718e278",
   "metadata": {},
   "outputs": [
    {
     "name": "stdout",
     "output_type": "stream",
     "text": [
      "<class 'dict'>\n",
      "{'people': [{'name': 'Joe Blow', 'phone': '010-555-1234', 'email': ['jb@gmail.com', 'jb@workmail.com'], 'coder': False}, {'name': 'Jane Lee', 'phone': '010-555-4321', 'email': None, 'coder': True}]}\n"
     ]
    }
   ],
   "source": [
    "data = json.loads(people_string)\n",
    "print(type(data))\n",
    "print(data)"
   ]
  },
  {
   "cell_type": "markdown",
   "id": "61147c91-7254-4a30-b698-d504ed5db897",
   "metadata": {},
   "source": [
    "출력한 결과를 읽기가 힘들겠지만, 기본적으로 dict type으로 변환된 것을 관찰할 수 있습니다. \n",
    "JSON 객체는 이렇게 Python 객체는 변환되지만, 항상 일치하는 것은 아닙니다. [여기를 참조하십시오.](https://docs.python.org/3/library/json.html)\n",
    "\n",
    "\n",
    "|Python  |JSON |\n",
    "|: ------|:-----|\n",
    "| dict   | object |\n",
    "| list, tuple | array |\n",
    "| str    | string |\n",
    "| int, float, int- & float-derived Enums | number |\n",
    "| True   | true | \n",
    "| False  | false | \n",
    "| None   | null |"
   ]
  },
  {
   "cell_type": "markdown",
   "id": "c5e79486-11a4-41ad-a1fe-4f6575c4298d",
   "metadata": {},
   "source": [
    "## list의 각 요소들을 출력하기 \n",
    "\n",
    "위에서 만든 data 객체는 `dict type`이고, `key`는 `people`이고, 그 `value`는 `list type`으로 두 사람을 요소(element)를 가지고 있습니다. list의 각 요소를 for loop로 체크해보도록 합시다. \n",
    "\n",
    "__Sample Run:__\n",
    "```json\n",
    "{'name': 'Joe Blow', 'phone': '010-555-1234', 'email': ['jb@gmail.com', 'jb@workmail.com'], 'coder': False}\n",
    "{'name': 'Jane Lee', 'phone': '010-555-4321', 'email': None, 'coder': True}\n",
    "```"
   ]
  },
  {
   "cell_type": "code",
   "execution_count": 3,
   "id": "305f4778-f1fa-41e4-a267-930947be7a58",
   "metadata": {},
   "outputs": [
    {
     "name": "stdout",
     "output_type": "stream",
     "text": [
      "{'name': 'Joe Blow', 'phone': '010-555-1234', 'email': ['jb@gmail.com', 'jb@workmail.com'], 'coder': False}\n",
      "{'name': 'Jane Lee', 'phone': '010-555-4321', 'email': None, 'coder': True}\n"
     ]
    }
   ],
   "source": [
    "for person in data['people']:\n",
    "    print(person)"
   ]
  },
  {
   "cell_type": "markdown",
   "id": "05f5d24a-46ec-46f4-8506-d56b33d9c583",
   "metadata": {},
   "source": [
    "## list의 사람들의 `name`의 값만 출력하기\n",
    "위에서 두 사람 즉 리스트의 two elements를 출력했는데, 이번에는 그 두 사람의 `name`의 값들만 출력해봅시다. \n",
    "\n",
    "__Sample Run:__:\n",
    "```\n",
    "Joe Blow\n",
    "Jane Lee\n",
    "```"
   ]
  },
  {
   "cell_type": "code",
   "execution_count": 4,
   "id": "a87454de-6c24-4a7d-b68b-9d3d3294ca6c",
   "metadata": {},
   "outputs": [
    {
     "name": "stdout",
     "output_type": "stream",
     "text": [
      "<class 'dict'>\n",
      "Joe Blow\n",
      "<class 'dict'>\n",
      "Jane Lee\n"
     ]
    }
   ],
   "source": [
    "for person in data['people']:\n",
    "    print(type(person))\n",
    "    print(person['name'])"
   ]
  },
  {
   "cell_type": "markdown",
   "id": "74e33c55-3d65-4680-83f1-6ccc6e3f7e55",
   "metadata": {},
   "source": [
    "## 파이썬 객체에서 `phone` 자료 삭제하기\n",
    "\n",
    "지금까지 JSON 객체를 파이썬 객체로 만들어 그 파이썬 객체를 다루어 보았는데, 이제는 반대로 파이썬 객체를 JSON String 객체로 만들어 보고, 파일에 저장해 보겠습니다. \n",
    "다만, 새로 만드는 객체에 변화를 주기위해, 전화번호를 제외한 JSON 객체를 만들어 본다고 가정합시다. 그래서, 먼저 파이썬 코드로 `phone`을 삭제합니다. \n",
    "\n",
    "__Sample Run:__:\n",
    "```json\n",
    "{'people': [{'name': 'Joe Blow', 'email': ['jb@gmail.com', 'jb@workmail.com'], 'coder': False}, {'name': 'Jane Lee', 'email': None, 'coder': True}]}\n",
    "```"
   ]
  },
  {
   "cell_type": "code",
   "execution_count": 5,
   "id": "b2fd396d-a1cf-4acf-baf2-9fbe93e898b2",
   "metadata": {},
   "outputs": [
    {
     "name": "stdout",
     "output_type": "stream",
     "text": [
      "{'people': [{'name': 'Joe Blow', 'email': ['jb@gmail.com', 'jb@workmail.com'], 'coder': False}, {'name': 'Jane Lee', 'email': None, 'coder': True}]}\n"
     ]
    }
   ],
   "source": [
    "for person in data['people']:\n",
    "    del(person['phone'])\n",
    "print(data)"
   ]
  },
  {
   "cell_type": "markdown",
   "id": "8a15dd00-aedc-4347-8712-8cdbf0cba91d",
   "metadata": {},
   "source": [
    "## `indent = 2` 인자 사용하기 \n",
    "- 가독성(readability)를 높이기 위해, `dumps()` 함수에 `indent`를 추가할 수 있습니다. 그러면, 상당히 쉽게 읽을 수 있는(human-readable) 형식이 됩니다. \n",
    "- 필요에 따라 key값으로 정렬하게 할 수 있습니다.\n",
    "\n",
    "__Sample Run:__:\n",
    "```json\n",
    "{\n",
    "  \"people\": [\n",
    "    {\n",
    "      \"coder\": false,\n",
    "      \"email\": [\n",
    "        \"jb@gmail.com\",\n",
    "        \"jb@workmail.com\"\n",
    "      ],\n",
    "      \"name\": \"Joe Blow\"\n",
    "    },\n",
    "    {\n",
    "      \"coder\": true,\n",
    "      \"email\": null,\n",
    "      \"name\": \"Jane Lee\"\n",
    "    }\n",
    "  ]\n",
    "}\n",
    "```\n"
   ]
  },
  {
   "cell_type": "code",
   "execution_count": 6,
   "id": "80f22885-ebc1-4008-b894-dd8f1fb9fc14",
   "metadata": {},
   "outputs": [
    {
     "name": "stdout",
     "output_type": "stream",
     "text": [
      "{\n",
      "  \"people\": [\n",
      "    {\n",
      "      \"coder\": false,\n",
      "      \"email\": [\n",
      "        \"jb@gmail.com\",\n",
      "        \"jb@workmail.com\"\n",
      "      ],\n",
      "      \"name\": \"Joe Blow\"\n",
      "    },\n",
      "    {\n",
      "      \"coder\": true,\n",
      "      \"email\": null,\n",
      "      \"name\": \"Jane Lee\"\n",
      "    }\n",
      "  ]\n",
      "}\n"
     ]
    }
   ],
   "source": [
    "new_string = json.dumps(data, indent=2, sort_keys = True)\n",
    "print(new_string)"
   ]
  },
  {
   "cell_type": "markdown",
   "id": "ff029bfe-541c-4a60-bb50-3404bc30ceaa",
   "metadata": {},
   "source": [
    "`sort_keys = True` 로 말미암아, `coder, email, name` 순으로 정렬이 되었습니다. \n",
    "다만, `json.dumps()`의 결과로 얻어지는 것은 `str` 타입인 것에 유의해야 합니다. 다른 말로, 이것을 JSON 파일로 저장하는 것은 가능하지만, __바람직하지 않습니다.__\n",
    "\n",
    "왜 그럴까요? \n",
    "- 직접 다음과 같이 파일을 작성하고, text editor로 그 내용을 살펴보면 알 수 있습니다. \n",
    "- `new_string` 자체를 `print()`가 아니라 단순히 `evaluate`해보아도 쉽게 알 수 있습니다. "
   ]
  },
  {
   "cell_type": "code",
   "execution_count": 7,
   "id": "c6681d73-154f-4121-ac60-ffe46eb014f6",
   "metadata": {},
   "outputs": [],
   "source": [
    "with open('people.json', 'w') as f:\n",
    "    json.dump(new_string, f)"
   ]
  },
  {
   "cell_type": "code",
   "execution_count": 8,
   "id": "2e4b8f2b-2f1c-4811-9df7-82b019e79bbb",
   "metadata": {},
   "outputs": [
    {
     "data": {
      "text/plain": [
       "'{\\n  \"people\": [\\n    {\\n      \"coder\": false,\\n      \"email\": [\\n        \"jb@gmail.com\",\\n        \"jb@workmail.com\"\\n      ],\\n      \"name\": \"Joe Blow\"\\n    },\\n    {\\n      \"coder\": true,\\n      \"email\": null,\\n      \"name\": \"Jane Lee\"\\n    }\\n  ]\\n}'"
      ]
     },
     "execution_count": 8,
     "metadata": {},
     "output_type": "execute_result"
    }
   ],
   "source": [
    "new_string"
   ]
  },
  {
   "cell_type": "markdown",
   "id": "916b5cf8-66ef-4bd9-8d8a-d67430f9dcc9",
   "metadata": {},
   "source": [
    "## JSON 파일 작성하기 (Encoding, Serialization)\n",
    "- 그러면, `people.json`파일이 다음과 같은 내용을 갖도록 파일을 만들 수 있을까요?\n",
    "\n",
    "__Expected JSON File:__"
   ]
  },
  {
   "cell_type": "markdown",
   "id": "9ce8f4a7-ff50-46ac-84c5-d649468b4e16",
   "metadata": {},
   "source": [
    "```json\n",
    "{\n",
    "  \"people\": [\n",
    "    {\n",
    "      \"coder\": false,\n",
    "      \"email\": [\n",
    "        \"jb@gmail.com\",\n",
    "        \"jb@workmail.com\"\n",
    "      ],\n",
    "      \"name\": \"Joe Blow\"\n",
    "    },\n",
    "    {\n",
    "      \"coder\": true,\n",
    "      \"email\": null,\n",
    "      \"name\": \"Jane Lee\"\n",
    "    }\n",
    "  ]\n",
    "}\n",
    "```\n",
    "\n",
    "__1st Trial:__ without indent"
   ]
  },
  {
   "cell_type": "code",
   "execution_count": 9,
   "id": "67228ccd-b166-46bf-8fda-9bd683f95f65",
   "metadata": {},
   "outputs": [],
   "source": [
    "with open('people.json', 'w') as f:\n",
    "    json.dump(data,f)"
   ]
  },
  {
   "cell_type": "markdown",
   "id": "9996ae4f-f6ae-4f55-bfa7-50adda35c7e9",
   "metadata": {},
   "source": [
    "__Solution:__ with indent"
   ]
  },
  {
   "cell_type": "code",
   "execution_count": 10,
   "id": "1c5f7de9-f88c-4378-9ebf-0d9e181d9771",
   "metadata": {},
   "outputs": [],
   "source": [
    "with open('people.json', 'w') as f:\n",
    "    json.dump(data,f,indent=2,sort_keys=True)"
   ]
  },
  {
   "cell_type": "markdown",
   "id": "6014af4a-407b-4f13-92ff-0eb2258154b8",
   "metadata": {
    "tags": []
   },
   "source": [
    "# JSON Example - Web Data Extraction\n",
    "\n",
    "## 웹에서 JSON 파일 자료를 받아 파이썬 객체로 변환하기\n",
    "다음의 `states.json` 파일은 다음과 같이 미국의 각 주(State)와 약자(Abbrev)와 코드(Code)로 구성되어 있으며, [여기서](https://worldpopulationreview.com/states/state-abbreviations) 내려받을 수 있습니다.\n",
    "\n",
    "```json\n",
    "[\n",
    "  {\n",
    "    \"State\": \"Alabama\",\n",
    "    \"Abbrev\": \"Ala.\",\n",
    "    \"Code\": \"AL\"\n",
    "  },\n",
    "  {\n",
    "    \"State\": \"Alaska\",\n",
    "    \"Abbrev\": \"Alaska\",\n",
    "    \"Code\": \"AK\"\n",
    "  },\n",
    "  ...\n",
    "]\n",
    "```\n",
    "`states.json` 파일이 현재 폴더에 존재한다고 가정하면, 다음과 같이 파일을 파이썬 객체로 읽어올 수 있습니다. 그리고, 첫 5개 주에 대한 자료를 출력합니다. "
   ]
  },
  {
   "cell_type": "code",
   "execution_count": 11,
   "id": "80ba887d-ffe0-47cc-b554-0ecec4902eaa",
   "metadata": {
    "tags": []
   },
   "outputs": [
    {
     "name": "stdout",
     "output_type": "stream",
     "text": [
      "[{'State': 'Alabama', 'Abbrev': 'Ala.', 'Code': 'AL'}, {'State': 'Alaska', 'Abbrev': 'Alaska', 'Code': 'AK'}, {'State': 'Arizona', 'Abbrev': 'Ariz.', 'Code': 'AZ'}, {'State': 'Arkansas', 'Abbrev': 'Ark.', 'Code': 'AR'}, {'State': 'California', 'Abbrev': 'Calif.', 'Code': 'CA'}]\n"
     ]
    }
   ],
   "source": [
    "import json\n",
    "\n",
    "with open('states.json') as f:\n",
    "    states=json.load(f)\n",
    "print(states[:5])\n"
   ]
  },
  {
   "cell_type": "markdown",
   "id": "77eef7d8-c7da-42d6-895a-051fce00d7d4",
   "metadata": {},
   "source": [
    "## list 객체 즉 각 State 입력을 하나씩 출력하기\n",
    "위의 예제에서 한 같은 방법으로 파이썬 객체로 다루면, 이번 자료는 전체가 하나의 list type 객체가 되었습니다. list 객체에는 각 주가 하나의 dict type 객체로 존재하고 있습니다. 먼저 몇 개의 주가 있는지 출력하고, 각 주에 해당하는 각 객체를 출력해보록 합니다. \n",
    "\n",
    "__Sample Run:__\n",
    "```json\n",
    "51\n",
    "{'State': 'Alabama', 'Abbrev': 'Ala.', 'Code': 'AL'}\n",
    "{'State': 'Alaska', 'Abbrev': 'Alaska', 'Code': 'AK'}\n",
    "{'State': 'Arizona', 'Abbrev': 'Ariz.', 'Code': 'AZ'}\n",
    "...\n",
    "```"
   ]
  },
  {
   "cell_type": "code",
   "execution_count": 12,
   "id": "8e3b129c-5045-4792-8e85-d6f31f46a42c",
   "metadata": {
    "tags": []
   },
   "outputs": [
    {
     "name": "stdout",
     "output_type": "stream",
     "text": [
      "51\n",
      "{'State': 'Alabama', 'Abbrev': 'Ala.', 'Code': 'AL'}\n",
      "{'State': 'Alaska', 'Abbrev': 'Alaska', 'Code': 'AK'}\n",
      "{'State': 'Arizona', 'Abbrev': 'Ariz.', 'Code': 'AZ'}\n",
      "{'State': 'Arkansas', 'Abbrev': 'Ark.', 'Code': 'AR'}\n",
      "{'State': 'California', 'Abbrev': 'Calif.', 'Code': 'CA'}\n",
      "{'State': 'Colorado', 'Abbrev': 'Colo.', 'Code': 'CO'}\n",
      "{'State': 'Connecticut', 'Abbrev': 'Conn.', 'Code': 'CT'}\n",
      "{'State': 'Delaware', 'Abbrev': 'Del.', 'Code': 'DE'}\n",
      "{'State': 'District of Columbia', 'Abbrev': 'D.C.', 'Code': 'DC'}\n",
      "{'State': 'Florida', 'Abbrev': 'Fla.', 'Code': 'FL'}\n",
      "{'State': 'Georgia', 'Abbrev': 'Ga.', 'Code': 'GA'}\n",
      "{'State': 'Hawaii', 'Abbrev': 'Hawaii', 'Code': 'HI'}\n",
      "{'State': 'Idaho', 'Abbrev': 'Idaho', 'Code': 'ID'}\n",
      "{'State': 'Illinois', 'Abbrev': 'Ill.', 'Code': 'IL'}\n",
      "{'State': 'Indiana', 'Abbrev': 'Ind.', 'Code': 'IN'}\n",
      "{'State': 'Iowa', 'Abbrev': 'Iowa', 'Code': 'IA'}\n",
      "{'State': 'Kansas', 'Abbrev': 'Kans.', 'Code': 'KS'}\n",
      "{'State': 'Kentucky', 'Abbrev': 'Ky.', 'Code': 'KY'}\n",
      "{'State': 'Louisiana', 'Abbrev': 'La.', 'Code': 'LA'}\n",
      "{'State': 'Maine', 'Abbrev': 'Maine', 'Code': 'ME'}\n",
      "{'State': 'Maryland', 'Abbrev': 'Md.', 'Code': 'MD'}\n",
      "{'State': 'Massachusetts', 'Abbrev': 'Mass.', 'Code': 'MA'}\n",
      "{'State': 'Michigan', 'Abbrev': 'Mich.', 'Code': 'MI'}\n",
      "{'State': 'Minnesota', 'Abbrev': 'Minn.', 'Code': 'MN'}\n",
      "{'State': 'Mississippi', 'Abbrev': 'Miss.', 'Code': 'MS'}\n",
      "{'State': 'Missouri', 'Abbrev': 'Mo.', 'Code': 'MO'}\n",
      "{'State': 'Montana', 'Abbrev': 'Mont.', 'Code': 'MT'}\n",
      "{'State': 'Nebraska', 'Abbrev': 'Nebr.', 'Code': 'NE'}\n",
      "{'State': 'Nevada', 'Abbrev': 'Nev.', 'Code': 'NV'}\n",
      "{'State': 'New Hampshire', 'Abbrev': 'N.H.', 'Code': 'NH'}\n",
      "{'State': 'New Jersey', 'Abbrev': 'N.J.', 'Code': 'NJ'}\n",
      "{'State': 'New Mexico', 'Abbrev': 'N.M.', 'Code': 'NM'}\n",
      "{'State': 'New York', 'Abbrev': 'N.Y.', 'Code': 'NY'}\n",
      "{'State': 'North Carolina', 'Abbrev': 'N.C.', 'Code': 'NC'}\n",
      "{'State': 'North Dakota', 'Abbrev': 'N.D.', 'Code': 'ND'}\n",
      "{'State': 'Ohio', 'Abbrev': 'Ohio', 'Code': 'OH'}\n",
      "{'State': 'Oklahoma', 'Abbrev': 'Okla.', 'Code': 'OK'}\n",
      "{'State': 'Oregon', 'Abbrev': 'Ore.', 'Code': 'OR'}\n",
      "{'State': 'Pennsylvania', 'Abbrev': 'Pa.', 'Code': 'PA'}\n",
      "{'State': 'Rhode Island', 'Abbrev': 'R.I.', 'Code': 'RI'}\n",
      "{'State': 'South Carolina', 'Abbrev': 'S.C.', 'Code': 'SC'}\n",
      "{'State': 'South Dakota', 'Abbrev': 'S.D.', 'Code': 'SD'}\n",
      "{'State': 'Tennessee', 'Abbrev': 'Tenn.', 'Code': 'TN'}\n",
      "{'State': 'Texas', 'Abbrev': 'Tex.', 'Code': 'TX'}\n",
      "{'State': 'Utah', 'Abbrev': 'Utah', 'Code': 'UT'}\n",
      "{'State': 'Vermont', 'Abbrev': 'Vt.', 'Code': 'VT'}\n",
      "{'State': 'Virginia', 'Abbrev': 'Va.', 'Code': 'VA'}\n",
      "{'State': 'Washington', 'Abbrev': 'Wash.', 'Code': 'WA'}\n",
      "{'State': 'West Virginia', 'Abbrev': 'W.Va.', 'Code': 'WV'}\n",
      "{'State': 'Wisconsin', 'Abbrev': 'Wis.', 'Code': 'WI'}\n",
      "{'State': 'Wyoming', 'Abbrev': 'Wyo.', 'Code': 'WY'}\n"
     ]
    }
   ],
   "source": [
    "print(len(states))\n",
    "for state in states:\n",
    "    print(state)"
   ]
  },
  {
   "cell_type": "markdown",
   "id": "80916a12-26c0-4088-a2a1-74b1f8934e13",
   "metadata": {},
   "source": [
    "## 원하는 자료만 발췌하기\n",
    "일단, JSON 객체를 파이썬 객체로 만들게 되면, 쉽게 자료들을 다룰 수 있습니다. 예를 들면, 이런 자료에서 `Abbrev`를 제외하고 주 이름과 코드만 출력하기를 원하면 다음과 같이 코딩할 수 있습니다. \n",
    "\n",
    "__Sample Run:__\n",
    "```\n",
    "Alabama AL\n",
    "Alaska AK\n",
    "Arizona AZ\n",
    "Arkansas AR\n",
    "California CA\n",
    "...\n",
    "```"
   ]
  },
  {
   "cell_type": "code",
   "execution_count": 13,
   "id": "a0064c07-cb69-4c4d-a078-fae24c069d53",
   "metadata": {
    "tags": []
   },
   "outputs": [
    {
     "name": "stdout",
     "output_type": "stream",
     "text": [
      "Alabama AL\n",
      "Alaska AK\n",
      "Arizona AZ\n",
      "Arkansas AR\n",
      "California CA\n",
      "Colorado CO\n",
      "Connecticut CT\n",
      "Delaware DE\n",
      "District of Columbia DC\n",
      "Florida FL\n",
      "Georgia GA\n",
      "Hawaii HI\n",
      "Idaho ID\n",
      "Illinois IL\n",
      "Indiana IN\n",
      "Iowa IA\n",
      "Kansas KS\n",
      "Kentucky KY\n",
      "Louisiana LA\n",
      "Maine ME\n",
      "Maryland MD\n",
      "Massachusetts MA\n",
      "Michigan MI\n",
      "Minnesota MN\n",
      "Mississippi MS\n",
      "Missouri MO\n",
      "Montana MT\n",
      "Nebraska NE\n",
      "Nevada NV\n",
      "New Hampshire NH\n",
      "New Jersey NJ\n",
      "New Mexico NM\n",
      "New York NY\n",
      "North Carolina NC\n",
      "North Dakota ND\n",
      "Ohio OH\n",
      "Oklahoma OK\n",
      "Oregon OR\n",
      "Pennsylvania PA\n",
      "Rhode Island RI\n",
      "South Carolina SC\n",
      "South Dakota SD\n",
      "Tennessee TN\n",
      "Texas TX\n",
      "Utah UT\n",
      "Vermont VT\n",
      "Virginia VA\n",
      "Washington WA\n",
      "West Virginia WV\n",
      "Wisconsin WI\n",
      "Wyoming WY\n"
     ]
    }
   ],
   "source": [
    "for state in states:\n",
    "    print(state['State'],state['Code'])"
   ]
  },
  {
   "cell_type": "markdown",
   "id": "7c65b6ad-cb1d-4b45-ba7a-ed09fd1e28df",
   "metadata": {},
   "source": [
    "## 불필요한 자료 삭제하고, 남은 자료를 파일로 저장하기\n",
    "\n",
    "이제 파이썬 객체에서 \n",
    "1. `Abbrev`를 삭제하고 \n",
    "2. 자료를 출력하고, \n",
    "3. 이 자료를 파일 `states_new.json`으로 저장해 봅시다. 저장할 때는 항상 가독성을 높이기 위해 `indent=2`인자를 넣어주는 것을 권장합니다. "
   ]
  },
  {
   "cell_type": "markdown",
   "id": "f680e187-1d80-4a0a-8ba4-25007d9f2133",
   "metadata": {},
   "source": [
    "__Sample Run:__\n",
    "```\n",
    "{'State': 'Alabama', 'Code': 'AL'}\n",
    "{'State': 'Alaska', 'Code': 'AK'}\n",
    "{'State': 'Arizona', 'Code': 'AZ'}\n",
    "{'State': 'Arkansas', 'Code': 'AR'}\n",
    "{'State': 'California', 'Code': 'CA'}\n",
    "...\n",
    "```\n",
    "__Expected JSON file Output:__\n",
    "```json\n",
    "[\n",
    "  {\n",
    "    \"State\": \"Alabama\",\n",
    "    \"Code\": \"AL\"\n",
    "  },\n",
    "  {\n",
    "    \"State\": \"Alaska\",\n",
    "    \"Code\": \"AK\"\n",
    "  },\n",
    "  ...\n",
    "]\n",
    "```"
   ]
  },
  {
   "cell_type": "code",
   "execution_count": 14,
   "id": "b9fe80a4-558d-46d6-8665-26ad40a8505c",
   "metadata": {},
   "outputs": [
    {
     "name": "stdout",
     "output_type": "stream",
     "text": [
      "{'State': 'Alabama', 'Code': 'AL'}\n",
      "{'State': 'Alaska', 'Code': 'AK'}\n",
      "{'State': 'Arizona', 'Code': 'AZ'}\n",
      "{'State': 'Arkansas', 'Code': 'AR'}\n",
      "{'State': 'California', 'Code': 'CA'}\n",
      "{'State': 'Colorado', 'Code': 'CO'}\n",
      "{'State': 'Connecticut', 'Code': 'CT'}\n",
      "{'State': 'Delaware', 'Code': 'DE'}\n",
      "{'State': 'District of Columbia', 'Code': 'DC'}\n",
      "{'State': 'Florida', 'Code': 'FL'}\n",
      "{'State': 'Georgia', 'Code': 'GA'}\n",
      "{'State': 'Hawaii', 'Code': 'HI'}\n",
      "{'State': 'Idaho', 'Code': 'ID'}\n",
      "{'State': 'Illinois', 'Code': 'IL'}\n",
      "{'State': 'Indiana', 'Code': 'IN'}\n",
      "{'State': 'Iowa', 'Code': 'IA'}\n",
      "{'State': 'Kansas', 'Code': 'KS'}\n",
      "{'State': 'Kentucky', 'Code': 'KY'}\n",
      "{'State': 'Louisiana', 'Code': 'LA'}\n",
      "{'State': 'Maine', 'Code': 'ME'}\n",
      "{'State': 'Maryland', 'Code': 'MD'}\n",
      "{'State': 'Massachusetts', 'Code': 'MA'}\n",
      "{'State': 'Michigan', 'Code': 'MI'}\n",
      "{'State': 'Minnesota', 'Code': 'MN'}\n",
      "{'State': 'Mississippi', 'Code': 'MS'}\n",
      "{'State': 'Missouri', 'Code': 'MO'}\n",
      "{'State': 'Montana', 'Code': 'MT'}\n",
      "{'State': 'Nebraska', 'Code': 'NE'}\n",
      "{'State': 'Nevada', 'Code': 'NV'}\n",
      "{'State': 'New Hampshire', 'Code': 'NH'}\n",
      "{'State': 'New Jersey', 'Code': 'NJ'}\n",
      "{'State': 'New Mexico', 'Code': 'NM'}\n",
      "{'State': 'New York', 'Code': 'NY'}\n",
      "{'State': 'North Carolina', 'Code': 'NC'}\n",
      "{'State': 'North Dakota', 'Code': 'ND'}\n",
      "{'State': 'Ohio', 'Code': 'OH'}\n",
      "{'State': 'Oklahoma', 'Code': 'OK'}\n",
      "{'State': 'Oregon', 'Code': 'OR'}\n",
      "{'State': 'Pennsylvania', 'Code': 'PA'}\n",
      "{'State': 'Rhode Island', 'Code': 'RI'}\n",
      "{'State': 'South Carolina', 'Code': 'SC'}\n",
      "{'State': 'South Dakota', 'Code': 'SD'}\n",
      "{'State': 'Tennessee', 'Code': 'TN'}\n",
      "{'State': 'Texas', 'Code': 'TX'}\n",
      "{'State': 'Utah', 'Code': 'UT'}\n",
      "{'State': 'Vermont', 'Code': 'VT'}\n",
      "{'State': 'Virginia', 'Code': 'VA'}\n",
      "{'State': 'Washington', 'Code': 'WA'}\n",
      "{'State': 'West Virginia', 'Code': 'WV'}\n",
      "{'State': 'Wisconsin', 'Code': 'WI'}\n",
      "{'State': 'Wyoming', 'Code': 'WY'}\n"
     ]
    }
   ],
   "source": [
    "for state in states:\n",
    "    del state['Abbrev']\n",
    "for state in states:\n",
    "    print(state)\n",
    "with open('state_new.json','w') as f:\n",
    "    json.dump(states,f,indent=2)"
   ]
  },
  {
   "cell_type": "markdown",
   "id": "cce8c1fb-3717-4e94-a848-f0a131437b97",
   "metadata": {
    "tags": []
   },
   "source": [
    "# Review Question\n",
    "JSON 타입은 Python타입과 일대일 호환이 가능한지 답하고, 그렇지 않다면 어떻게 호환될 수 있는지 설명하세요.\n",
    "\n",
    "__Your Answer:__"
   ]
  },
  {
   "cell_type": "markdown",
   "id": "27b6a15f-0a91-4cf1-96f1-1d00be934a55",
   "metadata": {},
   "source": [
    "JSON 타입은 Python타입과 일대일 호환이 **가능하다**.  \n",
    "\n",
    "`Python` : `JSON`  \n",
    "\n",
    "`dict` : `object`  \n",
    "`list,tuple` : `array`  \n",
    "`str` : `string`  \n",
    "`int,float,int-&float-derived Enums` : `number`  \n",
    "`True` : `true`  \n",
    "`False` : `false`  \n",
    "`None` : `null`  "
   ]
  },
  {
   "cell_type": "markdown",
   "id": "bf0b1d32-d0c5-4767-9812-998c4df499a3",
   "metadata": {},
   "source": [
    "# __학습 정리__\n",
    "\n",
    "1. JSON 데이터 구조 소개과 특성\n",
    "1. JSON 데이터 구조\n",
    "1. JSON 파일과 파이썬 JSON 객체 다루기 \n",
    "1. 웹에서 JSON파일 활용하기"
   ]
  },
  {
   "cell_type": "markdown",
   "id": "209ee414-7cba-43e5-8264-45bc7bf59cc0",
   "metadata": {},
   "source": [
    "# 참고자료\n",
    "\n",
    "- [JSON Official Homepage (한국어)](https://www.json.org/json-ko.html)\n",
    "- [W3School JSON](https://www.w3schools.com/js/js_json_intro.asp)\n",
    "- [Python JSON (한국어)](https://docs.python.org/ko/3/library/json.html)"
   ]
  },
  {
   "cell_type": "markdown",
   "id": "ad4af99a-8db0-4f74-8b9b-a5ade1c557d6",
   "metadata": {},
   "source": [
    "--------\n",
    "이 율법책을 네 입에서 떠나지 말게 하며 주야로 그것을 묵상하여 그 안에 기록된 대로 다 지켜 행하라 그리하면 네 길이 평탄하게 될 것이며 네가 형통하리라 (수1:8)"
   ]
  },
  {
   "cell_type": "markdown",
   "id": "c7a8bc83-0d5b-4fb4-a32a-a97ab4b0505c",
   "metadata": {},
   "source": [
    "On my honour, I pledge that I have neither received nor provided improper assistance  \n",
    "in the completion of this assignment.  \n",
    "Signed: 최윤영 Student Number: 22100748  "
   ]
  }
 ],
 "metadata": {
  "kernelspec": {
   "display_name": "Python 3 (ipykernel)",
   "language": "python",
   "name": "python3"
  },
  "language_info": {
   "codemirror_mode": {
    "name": "ipython",
    "version": 3
   },
   "file_extension": ".py",
   "mimetype": "text/x-python",
   "name": "python",
   "nbconvert_exporter": "python",
   "pygments_lexer": "ipython3",
   "version": "3.9.12"
  },
  "toc-autonumbering": true
 },
 "nbformat": 4,
 "nbformat_minor": 5
}
