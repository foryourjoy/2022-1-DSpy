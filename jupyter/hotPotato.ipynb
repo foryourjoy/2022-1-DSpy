{
 "cells": [
  {
   "cell_type": "code",
   "execution_count": 3,
   "id": "60ee7adf-eace-4bb1-bf1c-3a43357b26bd",
   "metadata": {
    "tags": []
   },
   "outputs": [
    {
     "name": "stdout",
     "output_type": "stream",
     "text": [
      "The winner is David\n"
     ]
    }
   ],
   "source": [
    "#%%writefile hotPotato.py\n",
    "from queue import Queue\n",
    "\n",
    "def hotPotato(namelist, num):\n",
    "    que=Queue()\n",
    "    for name in namelist:\n",
    "        que.put(name)\n",
    "    assert len(namelist) == que.qsize()\n",
    "        \n",
    "    while que.qsize() >1:\n",
    "        for i in range(num):\n",
    "            que.put(que.get())\n",
    "        que.get()\n",
    "    assert que.qsize() ==1\n",
    "    return que.get()\n",
    "\n",
    "if __name__==\"__main__\":\n",
    "    namelist=['Bill','David','Susan','Jane']\n",
    "    print(\"The winner is\", hotPotato(namelist, 3))"
   ]
  }
 ],
 "metadata": {
  "kernelspec": {
   "display_name": "Python 3 (ipykernel)",
   "language": "python",
   "name": "python3"
  },
  "language_info": {
   "codemirror_mode": {
    "name": "ipython",
    "version": 3
   },
   "file_extension": ".py",
   "mimetype": "text/x-python",
   "name": "python",
   "nbconvert_exporter": "python",
   "pygments_lexer": "ipython3",
   "version": "3.9.7"
  }
 },
 "nbformat": 4,
 "nbformat_minor": 5
}
