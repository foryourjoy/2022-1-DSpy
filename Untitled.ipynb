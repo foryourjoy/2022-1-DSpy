{
 "cells": [
  {
   "cell_type": "code",
   "execution_count": 13,
   "id": "412cb1af-34b9-4c5f-b935-7916fd536063",
   "metadata": {},
   "outputs": [
    {
     "name": "stdout",
     "output_type": "stream",
     "text": [
      "QueueCircular([])\n",
      "The circular queue is full\n",
      "QueueCircular([12, 17, 25, 11])\n",
      "QueueCircular([25, 11])\n",
      "QueueCircular([])\n",
      "The circular queue is empty\n",
      "QueueCircular([])\n"
     ]
    }
   ],
   "source": [
    "class QueueCircular:\n",
    "    \n",
    "    def __init__(self, size):\n",
    "        self.items = [None] * size\n",
    "        self.MAX = size\n",
    "        self.front = -1\n",
    "        self.back = -1\n",
    "        \n",
    "    def enqueue(self, item): # if not full\n",
    "        if (self.back + 1) % self.MAX == self.front:\n",
    "            print(\"The circular queue is full\")\n",
    "        elif self.front == -1:\n",
    "            self.front = 0\n",
    "            self.back = 0\n",
    "            self.items[self.back] = item\n",
    "        else:\n",
    "            self.back = (self.back + 1) % self.MAX  \n",
    "            self.items[self.back] = item\n",
    "    \n",
    "    def dequeue(self): # if not empty\n",
    "        if self.front == -1:\n",
    "            print(\"The circular queue is empty\")\n",
    "        elif self.front == self.back:\n",
    "            temp = self.items[self.front]\n",
    "            self.front = -1\n",
    "            self.back = -1\n",
    "            self.items[self.back] = temp\n",
    "        else:\n",
    "            temp = self.items[self.front]\n",
    "            self.front = (self.front + 1) % self.MAX  \n",
    "            return temp\n",
    "    \n",
    "    def is_empty():\n",
    "        return self.front == -1\n",
    "\n",
    "    def is_full():\n",
    "        return self.front == (self.back + 1) % self.MAX or  \\\n",
    "               (self.front == 0 and self.back == self.MAX - 1)\n",
    "\n",
    "    def __repr__(self):\n",
    "        pstr = 'QueueCircular(['\n",
    "        if self.front == -1:\n",
    "            return pstr + '])'\n",
    "        elif (self.back >= self.front):\n",
    "            pstr += ', '.join([str(self.items[i]) for i in range(self.front, self.back + 1)])\n",
    "        else:\n",
    "            pstr += ', '.join([str(self.items[i]) for i in range(self.front, self.MAX)])\n",
    "            pstr += ', '\n",
    "            pstr += ', '.join([str(self.items[i]) for i in range(0, self.back + 1)])\n",
    "        return pstr + '])'\n",
    "    \n",
    "if __name__ == '__main__':\n",
    "    q = QueueCircular(4)  \n",
    "    print(q)\n",
    "    q.enqueue(12)  \n",
    "    q.enqueue(17)  \n",
    "    q.enqueue(25)  \n",
    "    q.enqueue(11)  \n",
    "    q.enqueue(30)\n",
    "    print(q)\n",
    "    q.dequeue()  \n",
    "    q.dequeue()  \n",
    "    print(q)\n",
    "    q.dequeue()\n",
    "    q.dequeue()\n",
    "    print(q)\n",
    "    q.dequeue()\n",
    "    print(q)"
   ]
  }
 ],
 "metadata": {
  "kernelspec": {
   "display_name": "Python 3 (ipykernel)",
   "language": "python",
   "name": "python3"
  },
  "language_info": {
   "codemirror_mode": {
    "name": "ipython",
    "version": 3
   },
   "file_extension": ".py",
   "mimetype": "text/x-python",
   "name": "python",
   "nbconvert_exporter": "python",
   "pygments_lexer": "ipython3",
   "version": "3.9.7"
  }
 },
 "nbformat": 4,
 "nbformat_minor": 5
}
