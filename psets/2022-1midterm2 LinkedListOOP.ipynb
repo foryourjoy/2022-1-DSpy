{
 "cells": [
  {
   "cell_type": "markdown",
   "metadata": {},
   "source": [
    "One thing I do know, I was blind but now I see. (John 9:25b)\n",
    "\n",
    "-------\n",
    "<img src=\"https://github.com/idebtor/DSpy/blob/6b3676c3de29f85d2e7f30679676d1fd96d88b17/images/WelcomeToDataStructures.jpg?raw=true\" width=1000>\n",
    "\n",
    "__NOTE:__ The following materials have been compiled and adapted from the numerous sources including my own. Please help me to keep this tutorial up-to-date by reporting any issues or questions. Send any comments or criticisms to `idebtor@gmail.com` Your assistances and comments will be appreciated.\n",
    "\n",
    "--------"
   ]
  },
  {
   "cell_type": "markdown",
   "metadata": {},
   "source": [
    "On my honour, I pledge that I have neither received nor provided improper assistance  \n",
    "in the completion of this assignment.  \n",
    "Signed: 최윤영 Student Number: 22100748  "
   ]
  },
  {
   "cell_type": "markdown",
   "metadata": {},
   "source": [
    "# Midterm - LinkedList and OOP\n",
    "\n",
    "객체지향프로그래밍의 상속 개념을 사용하여 다음 그림과 같이 세 개의 LinkedList 클래스를 설계하고 구현합니다. \n",
    "\n",
    "<center>\n",
    "<img src=\"https://github.com/idebtor/DSpy/blob/ec5aa0a791ea62e75daa4d71287b8ffd9ab1d4b9/images/chap3/linkedlistOOP.png?raw=true\" width=700> </center>\n",
    "\n",
    "<center>그림 1. 객체지향프로그래밍(OOP)를 사용한 세 개의 LinkedList 클래스 상속도 예<center><br>"
   ]
  },
  {
   "cell_type": "markdown",
   "metadata": {},
   "source": [
    "## LinkList Class ADT\n",
    "\n",
    "LinkedList가 일반적으로 다룰 수 있는 연산들 중에서 우리가 구현하고자 하는 메소드들을 아래와 같이 정리할 수 있습니다. 이를 그림 1과 같이 세 개의 클래스에서 구현하고자 합니다. \n",
    "\n",
    "* `LinkedList()`: 비어있는 리스트를 생성합니다. 별다른 파라미터를 받지 않고 빈 리스트를 반환합니다.\n",
    "* `push(item)`: 새로운 원소를 리스트에 추가합니다. ListUnsorted에서는 가장 앞에 추가하며, ListSorted에서는 정렬된 순서에 적합하도록 추가합니다.\n",
    "* `push_back(item)`: 리스트에 새로운 원소를 추가합니다. 추가할 원소를 받아 리스트의 마지막 위치에 추가합니다.\n",
    "* `pop(item)`: 주어진 원소를 리스트에서 삭제하고, 그 값을 반환합니다. 삭제할 원소를 찾지 못하면 `None`을 반환합니다. \n",
    "* `pop_front()`: 리스트의 가장 첫번째 원소를 삭제하고, 삭제한 값을 반환합니다. 삭제할 원소를 찾지 못하면 `None`을 반환합니다.\n",
    "* `pop_back()`: 리스트의 가장 마지막 원소를 삭제하고, 그 값을 반환합니다. 삭제할 원소를 찾지 못하면 `None`을 반환합니다.\n",
    "* `find(item)`: 주어진 원소가 리스트에 있는지 참/거짓 값으로 반환합니다. \n",
    "* `is_empty`: 리스트가 비어있는지 확인하여, 참/거짓 값을 반환합니다.\n",
    "* `size()`: 리스트에 있는 원소의 갯수를 확인합니다. 정수값을 반환합니다.  \n",
    "* `insert(pos,item)`: 리스트의 특정 위치에 새로운 원소를 추가합니다. 희망하는 위치(인덱스)와 추가할 원소를 받아 리스트에 추가합니다. 인덱스의 최소값은 0, 최대값은 리스트의 size()입니다. 잘못된 인덱스(out of range)이면, `None`을 반환합니다.\n",
    "* `remove(pos)`: 리스트에서 특정 위치의 원소를 삭제하고, 그 값을 반환합니다. 삭제할 원소를 찾지 못하면 `None`을 반환합니다. 인덱스의 최소값은 0, 최대값은 리스트의 size() - 1입니다. \n",
    "* `__init__()`: constructor\n",
    "* `__str__()`: human readable string representation of the list\n",
    "* `__len__()`: size of the list \n",
    "* `__iter__()`: iterator that makes LinkedList iterable"
   ]
  },
  {
   "cell_type": "markdown",
   "metadata": {},
   "source": [
    "## Coding Specifications:\n",
    "1. 위에 나열된 메소드들을 구현하는데 가장 적합한 클래스(들)에 구현하십시오. 필요한 곳에 `@abstractmethod`를 적극 사용하십시오.  \n",
    "    - 예를 들면, `pop()`는 LinkedList 클래스에서는 `@abstractmethod`로 정의되어야 하고, 다른 클래스들에서는 구체적으로(concrete) 구현해야 합니다. 반면에 `pop_back(), pop_front()`는 `LinkedList` 클래스에만 구현하지만, 다른 클래스들에서는 구현하지 않아도 상속받으므로 그대로 사용할 수 있습니다. \n",
    "1. 객체지향프로그래밍의 상속(inheritance)와 강의에서 이미 소개한 파이썬의 Abstract Base Class를 이용하여 최적화된 클래스들을 설계하고 구현하십시오. \n",
    "1. 모든 LinkedList 클래스들을 iterable할 수 있도록 만드십시오."
   ]
  },
  {
   "cell_type": "markdown",
   "metadata": {},
   "source": [
    "## Node Class Definition\n",
    "\n",
    "`Linked List` 데이터 구조를 구성하는 기본적인 단위가 여기서는 `LinkedListNode` 클래스로 정의합니다. 이는 아래와 같의 정의할 수 있으며, 이 코드는 수정하지 않기로 합니다. "
   ]
  },
  {
   "cell_type": "code",
   "execution_count": 38,
   "metadata": {},
   "outputs": [],
   "source": [
    "\n",
    "class LinkedListNode:\n",
    "    \"\"\"A node of a linked list\"\"\"\n",
    "    def __init__(self, data):\n",
    "        self.__data = data\n",
    "        self.__next = None\n",
    "\n",
    "    def get_data(self):\n",
    "        \"\"\"Get node data\"\"\"\n",
    "        return self.__data\n",
    "\n",
    "    def set_data(self, node_data):\n",
    "        \"\"\"Set node data\"\"\"\n",
    "        self.__data = node_data\n",
    "\n",
    "    data = property(get_data, set_data)\n",
    "\n",
    "    def get_next(self):\n",
    "        \"\"\"Get next node\"\"\"\n",
    "        return self.__next\n",
    "\n",
    "    def set_next(self, next):\n",
    "        \"\"\"Set next node\"\"\"\n",
    "        self.__next = next\n",
    "\n",
    "    next = property(get_next, set_next)\n",
    "\n",
    "    def __str__(self):\n",
    "        return str(self.__data)"
   ]
  },
  {
   "cell_type": "markdown",
   "metadata": {},
   "source": [
    "## (3.0p) LinkedList Class Definition"
   ]
  },
  {
   "cell_type": "code",
   "execution_count": 39,
   "metadata": {},
   "outputs": [],
   "source": [
    "from abc import ABC, abstractmethod\n",
    "\n",
    "class LinkedList(ABC):\n",
    "    \"\"\"Linked List class implementation\"\"\"\n",
    "\n",
    "    def __init__(self):\n",
    "        \"\"\"Create a linked list\"\"\"\n",
    "        self._head = None\n",
    "        self.count=0\n",
    "    \n",
    "    def __iter__(self):\n",
    "        return LinkedListIterator(self._head)\n",
    "\n",
    "    def is_empty(self):\n",
    "        \"\"\"Is the list empty\"\"\"\n",
    "        return self.count==0\n",
    "    \n",
    "    def __str__(self):\n",
    "        curr=self._head\n",
    "        items=[]\n",
    "        while curr!=None:\n",
    "            item = curr.get_data()\n",
    "            items.append(item)\n",
    "            curr = curr.get_next()\n",
    "        return f\"{items}\"\n",
    "    \n",
    "    def __len__(self):\n",
    "        return self.count\n",
    "    \n",
    "    def size(self):\n",
    "        return self.count\n",
    "    \n",
    "    def pop_front(self):\n",
    "        current=self._head\n",
    "        if current!=None:\n",
    "            self._head=current.get_next()\n",
    "            self.count-=1\n",
    "            return str(current.get_data())\n",
    "        else:\n",
    "            return None\n",
    "        \n",
    "    def pop_back(self):\n",
    "        curr=self._head\n",
    "        prev=None\n",
    "        if curr==None:\n",
    "            return None\n",
    "        elif self.size()==1:\n",
    "            last_pop_element=curr.get_data()\n",
    "            self._head=None\n",
    "            self.count-=1\n",
    "            return str(last_pop_element)\n",
    "        else:\n",
    "            while curr!=None:\n",
    "                if curr.get_next()==None:\n",
    "                    prev.set_next(None)\n",
    "                    break\n",
    "                else:\n",
    "                    prev=curr\n",
    "                    curr=curr.get_next()\n",
    "            self.count-=1\n",
    "            return str(curr.get_data())\n",
    "    \n",
    "    def remove(self,pos):\n",
    "        current=self._head\n",
    "        previous=None\n",
    "        count=0\n",
    "        found=False\n",
    "        if pos > (self.count)-1:\n",
    "            return None\n",
    "        while current is not None and not found:\n",
    "            if count == pos:\n",
    "                found = True\n",
    "            else:\n",
    "                previous = current\n",
    "                current = current.get_next()\n",
    "                count += 1\n",
    "        if previous == None:\n",
    "            self._head = current.get_next()\n",
    "            self.count-=1\n",
    "            return str(current.get_data())\n",
    "        else:\n",
    "            previous.set_next(current.get_next())\n",
    "            self.count-=1\n",
    "            return str(current.get_data())\n",
    "        \n",
    "    @abstractmethod\n",
    "    def push(self,item):\n",
    "        pass\n",
    "        \n",
    "    @abstractmethod\n",
    "    def find(self, value):\n",
    "        \"\"\"Search for a node with a specific value\"\"\"\n",
    "        pass\n",
    "    \n",
    "    @abstractmethod\n",
    "    def pop(self,item):\n",
    "        pass\n",
    "    \n",
    "class LinkedListIterator:  \n",
    "    def __init__(self,head):\n",
    "        self.head=head\n",
    "        self.curr=head\n",
    "    def __next__(self):\n",
    "        if self.curr!=None:\n",
    "            data=self.curr.get_data()\n",
    "            self.curr=self.curr.get_next()\n",
    "            return data\n",
    "        else:\n",
    "            raise StopIteration"
   ]
  },
  {
   "cell_type": "markdown",
   "metadata": {},
   "source": [
    "## (3.0p) ListUnsorted Class Definition"
   ]
  },
  {
   "cell_type": "code",
   "execution_count": 40,
   "metadata": {},
   "outputs": [],
   "source": [
    "class ListUnsorted(LinkedList):\n",
    "\n",
    "    def __init__(self):\n",
    "        LinkedList.__init__(self)\n",
    "    \n",
    "    def push(self,item):\n",
    "        temp = LinkedListNode(item)\n",
    "        temp.set_next(self._head)\n",
    "        self._head = temp\n",
    "        self.count+=1\n",
    "\n",
    "    def find(self,item):\n",
    "        current = self._head\n",
    "        found = False\n",
    "        while current != None and not found:\n",
    "            if current.get_data() == item:\n",
    "                found = True\n",
    "            else:\n",
    "                current = current.get_next()\n",
    "\n",
    "        return found\n",
    "\n",
    "    def pop(self,item):\n",
    "        current = self._head\n",
    "        previous = None\n",
    "        found = False\n",
    "        while not found:\n",
    "            if current==None:\n",
    "                return None\n",
    "            if current.get_data() == item:\n",
    "                found = True\n",
    "            else:\n",
    "                previous = current\n",
    "                current = current.get_next()\n",
    "\n",
    "        if previous == None:\n",
    "            self._head = current.get_next()\n",
    "            self.count-=1\n",
    "            return int(current.get_data())\n",
    "        else:\n",
    "            previous.set_next(current.get_next())\n",
    "            self.count-=1\n",
    "            return int(current.get_data())\n",
    "    \n",
    "    def push_back(self,item):\n",
    "        curr=self._head\n",
    "        if curr==None:\n",
    "            self.push(item)\n",
    "            self.count+=1\n",
    "        else:\n",
    "            while curr!=None:\n",
    "                if curr.get_next()==None:\n",
    "                    curr.set_next(LinkedListNode(item))\n",
    "                    break\n",
    "                else:\n",
    "                    curr=curr.get_next()\n",
    "            self.count+=1\n",
    "    \n",
    "    def insert(self,pos,item):\n",
    "        temp=LinkedListNode(item)\n",
    "        current=self._head\n",
    "        previous=None\n",
    "        count=0\n",
    "        found=False\n",
    "        \n",
    "        if pos > self.count:\n",
    "            return None\n",
    "        while current is not None and not found:\n",
    "            if count == pos:\n",
    "                found = True\n",
    "            else:\n",
    "                previous = current\n",
    "                current = current.get_next()\n",
    "                count += 1\n",
    "        if previous is None:\n",
    "            temp.set_next(self._head)\n",
    "            self._head = temp\n",
    "        else:\n",
    "            temp.set_next(current)\n",
    "            previous.set_next(temp)\n",
    "        self.count += 1\n",
    "              "
   ]
  },
  {
   "cell_type": "markdown",
   "metadata": {
    "tags": []
   },
   "source": [
    "## (3.0p) ListSorted Class Definition"
   ]
  },
  {
   "cell_type": "code",
   "execution_count": 41,
   "metadata": {
    "tags": []
   },
   "outputs": [],
   "source": [
    "class ListSorted(LinkedList):\n",
    "    def __init__(self):\n",
    "        LinkedList.__init__(self)\n",
    "\n",
    "    def find(self,item):\n",
    "        current = self._head\n",
    "        found = False\n",
    "        stop = False\n",
    "        while current != None and not found and not stop:\n",
    "            if current.get_data() == item:\n",
    "                found = True\n",
    "            else:\n",
    "                if current.get_data() > item:\n",
    "                    stop = True\n",
    "                else:\n",
    "                    current = current.get_next()\n",
    "\n",
    "        return found\n",
    "\n",
    "    def push(self,item):\n",
    "        current = self._head\n",
    "        previous = None\n",
    "        stop = False\n",
    "        while current != None and not stop:\n",
    "            if current.get_data() > item:\n",
    "                stop = True\n",
    "            else:\n",
    "                previous = current\n",
    "                current = current.get_next()\n",
    "\n",
    "        temp = LinkedListNode(item)\n",
    "        if previous == None:\n",
    "            temp.set_next(self._head)\n",
    "            self._head = temp\n",
    "            self.count+=1\n",
    "        else:\n",
    "            temp.set_next(current)\n",
    "            previous.set_next(temp)\n",
    "            self.count+=1\n",
    "    \n",
    "    def pop(self,item):\n",
    "        current = self._head\n",
    "        previous = None\n",
    "        found = False\n",
    "        if self.find(item)==False:\n",
    "            return None\n",
    "        else:\n",
    "            while not found:\n",
    "                if current.get_data() == item:\n",
    "                    found = True\n",
    "                else:\n",
    "                    previous = current\n",
    "                    current = current.get_next()\n",
    "\n",
    "        if previous == None:\n",
    "            self._head = current.get_next()\n",
    "            self.count-=1\n",
    "            return int(current.get_data())\n",
    "        else:\n",
    "            previous.set_next(current.get_next())\n",
    "            self.count-=1\n",
    "            return int(current.get_data())\n",
    "            "
   ]
  },
  {
   "cell_type": "markdown",
   "metadata": {},
   "source": [
    "## Initial Test `ListUnsorted` Class\n",
    "\n",
    "- 다음은 코드 디버깅을 돕기 위하여 작성해본 간단한 테스트 스크립트입니다. \n",
    "- 코드 옆에 있는 코멘트를 참고해서, 세 클래스 즉 `LinkedList`, `ListUnsorted`, `ListSorted` 클래스 코드를 디버깅을 합니다.  \n",
    "- 그 후에는 Intensive Testing과정을 통해 코드를 완성합니다.\n",
    "\n",
    "__Expected Ouput__\n",
    "\n",
    "```\n",
    "[54, 26, 93, 17, 77, 31]\n",
    "6\n",
    "find(93): True\n",
    "find(99): False\n",
    "find(31): True\n",
    "pop_front(54): 54\n",
    "pop_back(31): 31\n",
    "[26, 93, 17, 77]\n",
    "pop(77): 77\n",
    "pop(77): None\n",
    "pop(26): 26\n",
    "[93, 17]\n",
    "[93, 17, 99]\n",
    "[10, 93, 17, 99]\n",
    "total = 219\n",
    "```"
   ]
  },
  {
   "cell_type": "code",
   "execution_count": 42,
   "metadata": {
    "tags": []
   },
   "outputs": [
    {
     "name": "stdout",
     "output_type": "stream",
     "text": [
      "[54, 26, 93, 17, 77, 31]\n",
      "6\n",
      "find(93): True\n",
      "find(99): False\n",
      "find(31): True\n",
      "pop_front(54): 54\n",
      "pop_back(31): 31\n",
      "[26, 93, 17, 77]\n",
      "pop(77): 77\n",
      "pop(77): None\n",
      "pop(26): 26\n",
      "[93, 17]\n",
      "[93, 17, 99]\n",
      "[10, 93, 17, 99]\n",
      "total = 219\n"
     ]
    }
   ],
   "source": [
    "mylist = ListUnsorted()\n",
    "mylist.push(31)\n",
    "mylist.push(77)\n",
    "mylist.push(17)\n",
    "mylist.push(93)\n",
    "mylist.push(26)\n",
    "mylist.push(54)\n",
    "\n",
    "print(mylist)                        # [54, 26, 93, 17, 77, 31]\n",
    "print(mylist.size())                 # 6\n",
    "print('find(93):', mylist.find(93))  # True\n",
    "print('find(99):', mylist.find(99))  # False\n",
    "print('find(31):', mylist.find(31))  # True\n",
    "print('pop_front(54):', mylist.pop_front())  \n",
    "print('pop_back(31):', mylist.pop_back() )\n",
    "print(mylist)                        # [26, 93, 17, 77]\n",
    "print('pop(77):', mylist.pop(77))    # 77 pop the last one\n",
    "print('pop(77):', mylist.pop(77))    # None\n",
    "print('pop(26):', mylist.pop(26))    # 26 pop the 1st one\n",
    "print(mylist)                        # [93, 17]\n",
    "\n",
    "mylist.insert(len(mylist), 99)       # insert at last\n",
    "print(mylist)                        # [93, 17, 99]\n",
    "mylist.insert(0, 10)                 # insert at front\n",
    "print(mylist)                        # [10, 93, 17, 99]\n",
    "\n",
    "total = 0\n",
    "for data in mylist:               \n",
    "    total += data\n",
    "print('total =', total)              # total = 219"
   ]
  },
  {
   "cell_type": "markdown",
   "metadata": {},
   "source": [
    "## Initial Test `ListSorted` Class\n",
    "\n",
    "다음은 코드 디버깅을 돕기 위하여 작성해본 간단한 테스트 스크립트입니다.  코드 옆에 있는 코멘트를 참고해서 진행하길 바랍니다. \n",
    "\n",
    "__Expected Output__\n",
    "```\n",
    "[17, 26, 31, 54, 77, 93]\n",
    "find(93): True\n",
    "find(11): False\n",
    "find(31): True\n",
    "pop_front(54): 17\n",
    "pop_back(31): 93\n",
    "[26, 31, 54, 77]\n",
    "pop(77): 77\n",
    "pop(77): None\n",
    "[26, 31, 54]\n",
    "total = 111\n",
    "```"
   ]
  },
  {
   "cell_type": "code",
   "execution_count": 43,
   "metadata": {},
   "outputs": [
    {
     "name": "stdout",
     "output_type": "stream",
     "text": [
      "[17, 26, 31, 54, 77, 93]\n",
      "find(93): True\n",
      "find(11): False\n",
      "find(31): True\n",
      "pop_front(): 17\n",
      "pop_back(): 93\n",
      "[26, 31, 54, 77]\n",
      "pop(77): 77\n",
      "pop(77): None\n",
      "[26, 31, 54]\n",
      "total = 111\n"
     ]
    }
   ],
   "source": [
    "mylist = ListSorted()\n",
    "mylist.push(31)\n",
    "mylist.push(77)\n",
    "mylist.push(17)\n",
    "mylist.push(93)\n",
    "mylist.push(26)\n",
    "mylist.push(54)\n",
    "\n",
    "print(mylist)                        # [17, 26, 31, 54, 77, 93]\n",
    "print('find(93):', mylist.find(93))  # True\n",
    "print('find(11):', mylist.find(11))  # False\n",
    "print('find(31):', mylist.find(31))  # True\n",
    "print('pop_front():', mylist.pop_front())  # 17\n",
    "print('pop_back():', mylist.pop_back() )   # 93\n",
    "print(mylist)                        # [26, 31, 54, 77]\n",
    "print('pop(77):', mylist.pop(77))    # 77\n",
    "print('pop(77):', mylist.pop(77))    # None\n",
    "print(mylist)                        # [26, 31, 54]\n",
    "\n",
    "total = 0\n",
    "for data in mylist:               \n",
    "    total += data\n",
    "print('total =', total)              # total = 111"
   ]
  },
  {
   "cell_type": "markdown",
   "metadata": {},
   "source": [
    "# (2.0p) Intensive Testing\n",
    "\n",
    "- 아래 코드의 일부부은 `ListUnsorted`와 `ListSorted` 클래스 메소드들에 대하여 동시에 테스트 하는 스크립트를 예를 들어 보여주며, 또한 일부분은 `ListUnsorted`의 경우만 보여주고 있습니다. \n",
    "- 따라서, 그러한 경우에는 즉 `ListUnsorted`의 경우만 테스트를 진행하고 있는 코드 셀이 있다면,  __`ListSorted`클래스에 대하여 테스트가 필요한지 판단하면, 반드시 테스트 스크립트를 추가하는 것도 이 부분에 대한 중간고사 문제입니다.__\n",
    "- 또한 필요하다면 디버깅을 하면서, `LinkedList`, `ListUnsorted`, `ListSorted` 클래스 코드를 완성하십시오.   "
   ]
  },
  {
   "cell_type": "markdown",
   "metadata": {},
   "source": [
    "## Two Helper Functions Provided for Intensive Testing\n",
    "\n",
    "다음은 좀 더 집중적인 테스트를 돕기 위하여 작성한 스크립트가 디버깅을 하는데 도움이 되길 바랍니다.  아래 도우미 함수 코드는 수정할 필요가 없습니다"
   ]
  },
  {
   "cell_type": "code",
   "execution_count": 44,
   "metadata": {},
   "outputs": [],
   "source": [
    "import random\n",
    "\n",
    "# returns a sequence with unique numbers in a range(start, max)\n",
    "def sequence(shuffle = True, start = 0, max = 10):\n",
    "    seq = list(range(start, start + max)) \n",
    "    if shuffle: random.shuffle(seq)   \n",
    "    return seq\n",
    "\n",
    "# returns as either a ListUnsorted or a ListSorted object\n",
    "# based on the constructor passed as the first argument.\n",
    "def linkedlist(cons, shuffle = True, start = 0, max = 10):\n",
    "    seq = sequence(shuffle, start, max) \n",
    "    llist = cons()\n",
    "    for i in seq: llist.push(i)       \n",
    "    return llist"
   ]
  },
  {
   "cell_type": "markdown",
   "metadata": {},
   "source": [
    "## Test `pop_front()` and `pop_back()`\n",
    "- This code snippet also tests two constructors and push() as well\n",
    "\n",
    "__Expected \"Sample\" Output:__\n",
    "```\n",
    "unsorted: [4, 5, 8, 0, 3, 2, 6, 9, 7, 1]\n",
    "unsorted: []\n",
    "  sorted: [0, 1, 2, 3, 4, 5, 6, 7, 8, 9]\n",
    "  sorted: []\n",
    "```"
   ]
  },
  {
   "cell_type": "code",
   "execution_count": 45,
   "metadata": {},
   "outputs": [
    {
     "name": "stdout",
     "output_type": "stream",
     "text": [
      "unsorted: [5, 8, 2, 9, 0, 6, 7, 3, 4, 1]\n",
      "unsorted: []\n",
      "  sorted: [0, 1, 2, 3, 4, 5, 6, 7, 8, 9]\n",
      "  sorted: []\n"
     ]
    }
   ],
   "source": [
    "ulist = linkedlist(lambda: ListUnsorted())    # unsorted list\n",
    "print('unsorted:', ulist)\n",
    "for i in range(len(ulist)):\n",
    "    ulist.pop_front()\n",
    "print('unsorted:', ulist)                     # []\n",
    "\n",
    "slist = linkedlist(lambda: ListSorted())      # sorted list\n",
    "print('  sorted:', slist)\n",
    "for i in range(len(slist)):\n",
    "    slist.pop_front()\n",
    "print('  sorted:', slist)                     # []"
   ]
  },
  {
   "cell_type": "markdown",
   "metadata": {},
   "source": [
    "__Expected \"Sample\" Output:__\n",
    "```\n",
    "unsorted: [1, 4, 6, 9, 0, 8, 5, 7, 2, 3]\n",
    "unsorted: []\n",
    "  sorted: [0, 1, 2, 3, 4, 5, 6, 7, 8, 9]\n",
    "  sorted: []\n",
    "```"
   ]
  },
  {
   "cell_type": "code",
   "execution_count": 46,
   "metadata": {},
   "outputs": [
    {
     "name": "stdout",
     "output_type": "stream",
     "text": [
      "unsorted: [1, 8, 7, 6, 3, 4, 9, 5, 2, 0]\n",
      "unsorted: []\n",
      "  sorted: [0, 1, 2, 3, 4, 5, 6, 7, 8, 9]\n",
      "  sorted: []\n"
     ]
    }
   ],
   "source": [
    "ulist = linkedlist(lambda: ListUnsorted())    # unsorted list\n",
    "print('unsorted:', ulist)\n",
    "for i in range(len(ulist)):\n",
    "    ulist.pop_back()\n",
    "print('unsorted:', ulist)                     # []\n",
    "\n",
    "slist = linkedlist(lambda: ListSorted())      # sorted list\n",
    "print('  sorted:', slist)\n",
    "for i in range(len(slist)):\n",
    "    slist.pop_back()\n",
    "print('  sorted:', slist)                     # []"
   ]
  },
  {
   "cell_type": "markdown",
   "metadata": {},
   "source": [
    "## Test `pop()` operation\n",
    "\n",
    "### Case 1:\n",
    "\n",
    "- 삭제할 요소들이 모두 리스트에 존재하는 경우들입니다. \n",
    "\n",
    "__Expected \"Sample\" Output:__\n",
    "```\n",
    "unsorted: [8, 2, 3, 4, 5, 1, 6, 0, 7, 9]\n",
    "  sorted: [0, 1, 2, 3, 4, 5, 6, 7, 8, 9]\n",
    "     seq: [5, 0, 2, 3, 8, 6, 4, 1, 9, 7]\n",
    "[]\n",
    "[]\n",
    "```"
   ]
  },
  {
   "cell_type": "code",
   "execution_count": 47,
   "metadata": {},
   "outputs": [
    {
     "name": "stdout",
     "output_type": "stream",
     "text": [
      "unsorted: [5, 8, 2, 7, 0, 3, 6, 4, 9, 1]\n",
      "  sorted: [0, 1, 2, 3, 4, 5, 6, 7, 8, 9]\n",
      "     seq: [5, 2, 7, 4, 3, 6, 1, 9, 8, 0]\n",
      "[]\n",
      "[]\n"
     ]
    }
   ],
   "source": [
    "ulist = linkedlist(lambda: ListUnsorted())    # unsorted list\n",
    "slist = linkedlist(lambda: ListSorted())      # sorted list\n",
    "seq = sequence()\n",
    "print('unsorted:', ulist)\n",
    "print('  sorted:', slist)\n",
    "print('     seq:', seq)\n",
    "for x in seq:\n",
    "    ulist.pop(x)\n",
    "    slist.pop(x)\n",
    "print(ulist)                      # []\n",
    "print(slist)                      # []"
   ]
  },
  {
   "cell_type": "markdown",
   "metadata": {},
   "source": [
    "### Case 2:\n",
    "\n",
    "- 삭제할 요소들이 리스트에 존재하지 않는 경우를 포함합니다. \n",
    "\n",
    "```\n",
    "unsorted: [2, 9, 7, 1, 4, 0, 8, 6, 3, 5]\n",
    "  sorted: [0, 1, 2, 3, 4, 5, 6, 7, 8, 9]\n",
    "     zap: [-1, 0, 1, 1001]\n",
    "u_none: {-1: None, 0: 0, 1: 1, 1001: None}\n",
    "s_none: {-1: None, 0: 0, 1: 1, 1001: None}\n",
    "```"
   ]
  },
  {
   "cell_type": "code",
   "execution_count": 48,
   "metadata": {},
   "outputs": [
    {
     "name": "stdout",
     "output_type": "stream",
     "text": [
      "unsorted: [7, 1, 2, 6, 9, 0, 3, 4, 8, 5]\n",
      "  sorted: [0, 1, 2, 3, 4, 5, 6, 7, 8, 9]\n",
      "     zap: [-1, 0, 1, 1001]\n",
      "u_none: {-1: None, 0: 0, 1: 1, 1001: None}\n",
      "s_none: {-1: None, 0: 0, 1: 1, 1001: None}\n"
     ]
    }
   ],
   "source": [
    "# pop items that do not exist in the linked list\n",
    "ulist = linkedlist(lambda: ListUnsorted())\n",
    "slist = linkedlist(lambda: ListSorted()) \n",
    "zap = [-1, 0, 1, 1001]      \n",
    "print('unsorted:', ulist)\n",
    "print('  sorted:', slist)\n",
    "print('     zap:', zap)   \n",
    "u_none = {}\n",
    "s_none = {}\n",
    "for z in zap:\n",
    "    u_none[z] = ulist.pop(z)     # extra items to check\n",
    "    s_none[z] = slist.pop(z)     # extra items to check\n",
    "print('u_none:', u_none)         # u_none: {-1: None, 0: 0, 1: 1, 1001: None}\n",
    "print('s_none:', s_none)         # s_none: {-1: None, 0: 0, 1: 1, 1001: None}"
   ]
  },
  {
   "cell_type": "markdown",
   "metadata": {},
   "source": [
    "## Test push_back() operation\n",
    "\n",
    "__Expected \"Sample\" Output:__\n",
    "```\n",
    "unsorted: []\n",
    "     seq: [1, 3, 0, 8, 9, 5, 4, 7, 6, 2]\n",
    "unsorted: [1, 3, 0, 8, 9, 5, 4, 7, 6, 2]\n",
    "```"
   ]
  },
  {
   "cell_type": "code",
   "execution_count": 49,
   "metadata": {},
   "outputs": [
    {
     "name": "stdout",
     "output_type": "stream",
     "text": [
      "unsorted: []\n",
      "     seq: [1, 2, 5, 9, 4, 0, 7, 3, 8, 6]\n",
      "unsorted: [1, 2, 5, 9, 4, 0, 7, 3, 8, 6]\n"
     ]
    }
   ],
   "source": [
    "ulist = ListUnsorted()\n",
    "seq = sequence()\n",
    "print('unsorted:', ulist) \n",
    "print('     seq:', seq)          \n",
    "for x in seq:\n",
    "    ulist.push_back(x)\n",
    "print('unsorted:', ulist)        # same as seq:[...]"
   ]
  },
  {
   "cell_type": "markdown",
   "metadata": {},
   "source": [
    "## Test insert() operation\n",
    "\n",
    "__Expected \"Sample\" Output:__\n",
    "```\n",
    "unsorted: []\n",
    "     seq: [8, 2, 3, 7, 4, 1, 0, 6, 5, 9]\n",
    "unsorted: [1, 9, 2, 8, 4, 0, 6, 5, 7, 3]\n",
    "```"
   ]
  },
  {
   "cell_type": "code",
   "execution_count": 50,
   "metadata": {},
   "outputs": [
    {
     "name": "stdout",
     "output_type": "stream",
     "text": [
      "unsorted: []\n",
      "     seq: [4, 6, 3, 2, 7, 1, 8, 5, 9, 0]\n",
      "unsorted: [4, 7, 2, 6, 5, 0, 1, 9, 3, 8]\n"
     ]
    }
   ],
   "source": [
    "ulist = ListUnsorted()\n",
    "seq = sequence()\n",
    "print('unsorted:', ulist) \n",
    "print('     seq:', seq)\n",
    "for x in seq:\n",
    "    pos = random.randint(0, len(ulist))\n",
    "    ulist.insert(pos, x)\n",
    "print('unsorted:', ulist)   "
   ]
  },
  {
   "cell_type": "markdown",
   "metadata": {},
   "source": [
    "## Test remove() operation\n",
    "\n",
    "__Expected \"Sample\" Output:__\n",
    "```\n",
    "unsorted: [2, 7, 0, 8, 9, 4, 3, 5, 1, 6]\n",
    "unsorted: []\n",
    "```"
   ]
  },
  {
   "cell_type": "code",
   "execution_count": 51,
   "metadata": {},
   "outputs": [
    {
     "name": "stdout",
     "output_type": "stream",
     "text": [
      "unsorted: [2, 0, 5, 1, 4, 6, 8, 7, 3, 9]\n",
      "unsorted: []\n"
     ]
    }
   ],
   "source": [
    "ulist = linkedlist(lambda: ListUnsorted())\n",
    "print('unsorted:', ulist) \n",
    "while len(ulist):\n",
    "    pos = random.randint(0, len(ulist))\n",
    "    ulist.remove(pos)\n",
    "print('unsorted:', ulist)   "
   ]
  },
  {
   "cell_type": "code",
   "execution_count": 52,
   "metadata": {},
   "outputs": [
    {
     "name": "stdout",
     "output_type": "stream",
     "text": [
      "sorted: [0, 1, 2, 3, 4, 5, 6, 7, 8, 9]\n",
      "sorted: []\n"
     ]
    }
   ],
   "source": [
    "slist = linkedlist(lambda: ListSorted())\n",
    "print('sorted:', slist) \n",
    "while len(slist):\n",
    "    pos = random.randint(0, len(slist))\n",
    "    slist.remove(pos)\n",
    "print('sorted:', slist)"
   ]
  }
 ],
 "metadata": {
  "kernelspec": {
   "display_name": "Python 3 (ipykernel)",
   "language": "python",
   "name": "python3"
  },
  "language_info": {
   "codemirror_mode": {
    "name": "ipython",
    "version": 3
   },
   "file_extension": ".py",
   "mimetype": "text/x-python",
   "name": "python",
   "nbconvert_exporter": "python",
   "pygments_lexer": "ipython3",
   "version": "3.9.7"
  },
  "toc-autonumbering": true
 },
 "nbformat": 4,
 "nbformat_minor": 4
}
