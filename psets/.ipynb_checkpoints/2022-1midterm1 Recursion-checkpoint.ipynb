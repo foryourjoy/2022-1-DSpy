{
 "cells": [
  {
   "cell_type": "markdown",
   "metadata": {},
   "source": [
    "항상 기뻐하라\n",
    "쉬지 말고 기도하라\n",
    "범사에 감사하라 이것이 그리스도 예수 안에서 너희를 향하신 하나님의 뜻이니라\n",
    "성령을 소멸하지 말며\n",
    "예언을 멸시하지 말고\n",
    "범사에 헤아려 좋은 것을 취하고\n",
    "악은 어떤 모양이라도 버리라 (살전5:16-22)\n",
    "\n",
    "-------\n",
    "\n",
    "<center><img src=\"https://github.com/idebtor/KMOOC-ML/blob/master/ipynb/images/joyai/pythonML.png?raw=true\" width=1000></center>\n",
    "\n",
    "__NOTE:__ The following materials have been compiled and adapted from the numerous sources including my own. Please help me to keep this tutorial up-to-date by reporting any issues or questions. Send any comments or criticisms to `idebtor@gmail.com` Your assistances and comments will be appreciated."
   ]
  },
  {
   "cell_type": "markdown",
   "metadata": {},
   "source": [
    "<b style=\"font-size:30px\">Midterm: List/Recursion/TimeComplexity </b>\n",
    "\n",
    "__Honor Code:__  \n",
    "On my honour, I pledge that I have neither received nor provided improper assistance  \n",
    "in the completion of this assignment.  \n",
    "Signed: 최윤영 Student Number: 22100748  \n",
    "__Signature:__  \n",
    "최윤영"
   ]
  },
  {
   "cell_type": "markdown",
   "metadata": {},
   "source": [
    "# Reverse a list or string object\n",
    "주어진 문자열이나 리스트를 거꾸로 정렬하는 반환하는 재귀 알고리즘을 구현하고자 합니다. 이를 구현하기 위해 다음과 같은 단계를 따라 완성하십시오.  \n",
    "\n",
    "## Step 1: 재귀함수 기본 골격 코딩하기\n",
    "주어진 리스트나 문자열, 즉 매개변수의 가장 마지막 원소나 문자를 반환하는 함수 `reverse()`를 정의합니다. \n",
    "\n",
    "먼저, 재귀 알고리즘에서 말하는 base case에 해당하는 코딩을 합니다 즉 주어진 매개변수의 길이가 0 혹은 1이면 주어진 매개변수를 반환하십시오.  길이가 1보다 크면 마지막 원소/문자를 반환합니다. "
   ]
  },
  {
   "cell_type": "markdown",
   "metadata": {},
   "source": [
    "__Sample Run:__\n",
    "```\n",
    "def reverse(given):\n",
    "    pass\n",
    "\n",
    "if __name__ == '__main__':\n",
    "    print(reverse(['Not', 'I', 'But', 'Christ']))\n",
    "    print(reverse('NIBC'))\n",
    "    print(reverse(''))\n",
    "    print(reverse([]))\n",
    "```\n",
    "\n",
    "__Expected Output:__   \n",
    "```\n",
    "Christ\n",
    "C\n",
    "[]\n",
    "[]\n",
    "```\n",
    "\n",
    "__Solution:__"
   ]
  },
  {
   "cell_type": "code",
   "execution_count": 1,
   "metadata": {},
   "outputs": [
    {
     "name": "stdout",
     "output_type": "stream",
     "text": [
      "Christ\n",
      "C\n",
      "\n",
      "[]\n"
     ]
    }
   ],
   "source": [
    "def reverse(given):\n",
    "    if len(given)<=1:\n",
    "        return given\n",
    "    else:\n",
    "        return given[-1]\n",
    "\n",
    "if __name__ == '__main__':\n",
    "    print(reverse(['Not', 'I', 'But', 'Christ']))\n",
    "    print(reverse('NIBC'))\n",
    "    print(reverse(''))\n",
    "    print(reverse([]))"
   ]
  },
  {
   "cell_type": "markdown",
   "metadata": {},
   "source": [
    "## Step 2: 재귀함수에 사용할 슬라이싱 연습하기\n",
    "\n",
    "주어진 리스트나 문자열에서 마지막 원소나 문자를 제외한 나머지를 __인덱싱으로__ 추출(Slicing)하는 코드를 작성하십시오.  아래 주어진 __Sample Run:__ 에 있는 두 개의 print()구문은 정학히 같은 구문이어야 합니다. 여러분이 `None`을 다른 인덱싱 코드로 대체하십시오. \n",
    "\n",
    "__Sample Run:__\n",
    "```\n",
    "given = ['Not', 'I', 'But', 'Christ']\n",
    "print(given[ None ])\n",
    "given = 'NIBC'\n",
    "print(given[ None ])\n",
    "```\n",
    "__Expected Output:__\n",
    "```\n",
    "['Not', 'I', 'But']\n",
    "NIB\n",
    "```"
   ]
  },
  {
   "cell_type": "code",
   "execution_count": 2,
   "metadata": {},
   "outputs": [
    {
     "name": "stdout",
     "output_type": "stream",
     "text": [
      "['Not', 'I', 'But']\n",
      "NIB\n"
     ]
    }
   ],
   "source": [
    "given = ['Not', 'I', 'But', 'Christ']\n",
    "print(given[:-1])\n",
    "given = 'NIBC'\n",
    "print(given[:-1])"
   ]
  },
  {
   "cell_type": "markdown",
   "metadata": {},
   "source": [
    "## Step 3: recursive case를 추가하여 재귀함수 완성하기 \n",
    "\n",
    "Step 1의 재귀함수가 지금은 return 구문에서 가장 마지막 원소를 반환하지만, 이제 이를 수정하여 가장 마지막 원소를 반환할 뿐만 아니라 아직 남아 있는 부분(sliced `given`)에 대해서 `reverse()` 함수를 호출하도록 하고, 또한 호출하여 반환하는 값을 그 앞에 있는 값과 합하여 ( + 즉 concatenate)해서 반환하도록 하십시오.\n",
    "\n",
    "다시 말하면, Step 2에서 연습하면서 추출한 남은 부분 리스트/문자열을 인자로 `reverse()`를 호출하는 것을 반환 구문에 `+` 하여 concatenate 하도록 하십시오."
   ]
  },
  {
   "cell_type": "markdown",
   "metadata": {},
   "source": [
    "__Sample Run:__  \n",
    "```\n",
    "if __name__ == '__main__':\n",
    "    print(reverse('nibc'))\n",
    "    print(reverse(['Not', 'I', 'But', 'Christ']))\n",
    "    print(reverse(''))\n",
    "    print(reverse([]))\n",
    "    print(reverse('Hello'))\n",
    "```\n",
    "__Expected Output:__\n",
    "```\n",
    "cbin\n",
    "['Christ', 'But', 'I', 'Not']\n",
    "\n",
    "[]\n",
    "olleH\n",
    "```\n",
    "\n",
    "__Solution:__"
   ]
  },
  {
   "cell_type": "code",
   "execution_count": 3,
   "metadata": {},
   "outputs": [
    {
     "name": "stdout",
     "output_type": "stream",
     "text": [
      "cbin\n",
      "['Christ', 'But', 'I', 'Not']\n",
      "\n",
      "[]\n",
      "olleH\n"
     ]
    }
   ],
   "source": [
    "def reverse(given):\n",
    "    if len(given)<=1:\n",
    "            return given\n",
    "    else:\n",
    "        if type(given)==str:\n",
    "            return given[-1]+reverse(given[:-1])\n",
    "        if type(given)==list:\n",
    "            return [given[-1]]+(reverse(given[:-1]))\n",
    "\n",
    "if __name__ == '__main__':\n",
    "    print(reverse('nibc'))\n",
    "    print(reverse(['Not', 'I', 'But', 'Christ']))\n",
    "    print(reverse(''))\n",
    "    print(reverse([]))\n",
    "    print(reverse('Hello'))"
   ]
  },
  {
   "cell_type": "markdown",
   "metadata": {},
   "source": [
    "## 완성된 reverse()재귀함수의 시간복잡도를 계산하십시오. \n",
    "\n",
    "__Solution:__\n"
   ]
  },
  {
   "cell_type": "markdown",
   "metadata": {},
   "source": [
    "reverse() 함수는 'given' 의 길이가 1이 될때까지 반복하는 함수이다.  \n",
    "따라서 'given'의 길이를 n이라고 한다면, 1부터 n까지 n번 반복하므로,  \n",
    "시간복잡도는 O(n)이다."
   ]
  },
  {
   "cell_type": "markdown",
   "metadata": {},
   "source": [
    "--------\n",
    "__슬기로운 자는 재앙을 보면 숨어 피하여도 어리석은 자들은 나가다가 해를 받느니라.__\n",
    "잠언27:12"
   ]
  }
 ],
 "metadata": {
  "kernelspec": {
   "display_name": "Python 3 (ipykernel)",
   "language": "python",
   "name": "python3"
  },
  "language_info": {
   "codemirror_mode": {
    "name": "ipython",
    "version": 3
   },
   "file_extension": ".py",
   "mimetype": "text/x-python",
   "name": "python",
   "nbconvert_exporter": "python",
   "pygments_lexer": "ipython3",
   "version": "3.9.7"
  },
  "toc-autonumbering": true
 },
 "nbformat": 4,
 "nbformat_minor": 4
}
