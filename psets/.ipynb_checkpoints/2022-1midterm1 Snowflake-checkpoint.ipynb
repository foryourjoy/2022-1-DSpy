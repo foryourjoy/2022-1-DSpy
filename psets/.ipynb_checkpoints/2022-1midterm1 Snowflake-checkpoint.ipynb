{
 "cells": [
  {
   "cell_type": "markdown",
   "metadata": {},
   "source": [
    "사랑은 언제까지나 떨어지지 아니하되 예언도 폐하고 방언도 그치고 지식도 폐하리라. (고린도전서 13:4)\n",
    "Love never fails. But where there are prophecies, they will cease; where there are tongues, the will be stilled; where there is knowledge, it will pass away. (1 Corinthians 13:4)\n",
    "\n",
    "-------\n",
    "\n",
    "<center><img src=\"https://github.com/idebtor/KMOOC-ML/blob/master/ipynb/images/joyai/pythonML.png?raw=true\" width=1000></center>\n",
    "\n",
    "__NOTE:__ The following materials have been compiled and adapted from the numerous sources including my own. Please help me to keep this tutorial up-to-date by reporting any issues or questions. Send any comments or criticisms to `idebtor@gmail.com` Your assistances and comments will be appreciated."
   ]
  },
  {
   "cell_type": "markdown",
   "metadata": {},
   "source": [
    "<b style=\"font-size:30px\">Midterm: Recursion/Memoization </b>\n",
    "\n",
    "__Honor Code:__  \n",
    "On my honour, I pledge that I have neither received nor provided improper assistance  \n",
    "in the completion of this assignment.  \n",
    "Signed: 최윤영 Student Number: 22100748  \n",
    "\n",
    "__Signature:__  \n",
    "최윤영\n",
    "\n",
    "\n",
    "\n",
    "<b style=\"font-size:30px\">Problem Set: Snowflake Sequence </b> \n",
    "\n",
    "<b style=\"font-size:24px\">Love never fails, but ... </b>\n",
    "\n",
    "고린도전서 13장은 진정한 사랑이 무엇인지 깊이있게 알려주는 말씀입니다. \n",
    "\n",
    "4절에 보면, \"사랑은 언제까지나 떨어지지 아니하되, ...그치느니라\"라는 말씀이 나옵니다. 사랑만이 영원하다는 하나님의 말씀입니다. 모든 것은 지나가고 멈추고, 그치고, 떨어집니다. 어떤 인생은 높이 올라가기도 하고, 어떤 인생은 그렇지 않지만, 결국 모두 떨어지고 흙으로 돌아갑니다. 그러나 하나님께서 우리에 대한 진정한 사랑은 영원합니다.  우리가 또한 하나님을 사랑하고 이웃을 사랑하는 것도 영원할 것입니다. 이 세상이 끝날지라도 말입니다. 우리가 서로 하나님의 사랑으로 본받으며 서로 사랑합시다. 영원히. "
   ]
  },
  {
   "cell_type": "markdown",
   "metadata": {},
   "source": [
    "# 눈송이 수열\n",
    "\n",
    "눈보라가 치는 날에 창문 밖에 휘날리는 눈송이들을 관찰해보면, 눈송이들이 날아다니가 땅에 떨어져 쌓이지만, 어떤 눈송이는 바람을 타고 오히려 하늘로 올라가기도 합니다. 그러나, 그 눈송이도 결국 땅에 떨지게 될 것입니다.  이런 눈송이의 움직임과 비슷한 수열(sequence)이 있습니다. 이런 수열에 대해 특별한 이름이 있지만, 여기서는 단순히 눈송이(snowflake) 수열이라고 부르도록 하겠습니다. \n",
    "\n",
    "Snowflake를 발생하는 알고리즘은 다음과 같습니다. \n",
    "\n",
    "__Algorithm:__\n",
    "\n",
    "1. Take a number (says 'n') as an input. \n",
    "1. while n != 1\n",
    "    1. add 'n' to the sequence\n",
    "    1. If 'n' is odd, calculate the next number as n*3+1.\n",
    "    1. If ‘n’ is even, calculate the next number as n/2."
   ]
  },
  {
   "cell_type": "markdown",
   "metadata": {},
   "source": [
    "또한 이러한 수열들 몇개를 그래프로 그리면 다음과 같이 나타납니다. \n",
    "\n",
    "<center><img src=\"https://github.com/idebtor/KMOOC-ML/blob/master/ipynb/images/joyai/snowflake.png?raw=true\" width=600></center>\n",
    "\n",
    "<center>그림 1. 눈송이 수열(n = 11 ~ 16) </center>"
   ]
  },
  {
   "cell_type": "markdown",
   "metadata": {},
   "source": [
    "## Step 1: Using while (without recursion)\n",
    "\n",
    "아래에 제시된 것과 같이 눈송이 수열을 만드는 코드를 작성하십시오. \n",
    "\n",
    "__Sample Runs:__\n",
    "```\n",
    "Enter the number:  12\n",
    "Snowflake Sequence:  [12, 6, 3, 10, 5, 16, 8, 4, 2, 1]\n",
    "```\n",
    "```\n",
    "Enter the number: 17\n",
    "Snowflake Sequence:  [17, 52, 26, 13, 40, 20, 10, 5, 16, 8, 4, 2, 1]\n",
    "```"
   ]
  },
  {
   "cell_type": "code",
   "execution_count": 1,
   "metadata": {},
   "outputs": [
    {
     "name": "stdin",
     "output_type": "stream",
     "text": [
      "Enter the number:  17\n"
     ]
    },
    {
     "name": "stdout",
     "output_type": "stream",
     "text": [
      "Snowflake Sequence:  [17, 52, 26, 13, 40, 20, 10, 5, 16, 8, 4, 2, 1]\n"
     ]
    }
   ],
   "source": [
    "def snowflake(start):\n",
    "    seq = []\n",
    "    seq.append(start)\n",
    "    while start>1:\n",
    "        if start%2!=0:\n",
    "            start=3*start+1\n",
    "        else:\n",
    "            start=int(start/2)\n",
    "        seq.append(start)\n",
    "    return seq\n",
    " \n",
    "if __name__ == \"__main__\":\n",
    "    n = input(\"Enter the number: \")\n",
    "    if n.isnumeric():\n",
    "        seq = snowflake(int(n))\n",
    "        print(\"Snowflake Sequence: \", seq)\n",
    "    else:\n",
    "        print(\"Please enter a postive integer.\")"
   ]
  },
  {
   "cell_type": "markdown",
   "metadata": {},
   "source": [
    "## Step 2: Using Recursion\n",
    "눈송이 수열을 Recursion을 사용하여 구현하십시오. \n",
    "\n",
    "__Sample Run:__\n",
    "```\n",
    "Enter the number: 15\n",
    "Hailstone Sequence: [15, 46, 23, 70, 35, 106, 53, 160, 80, 40, 20, 10, 5, 16, 8, 4, 2, 1]\n",
    "```"
   ]
  },
  {
   "cell_type": "code",
   "execution_count": 2,
   "metadata": {},
   "outputs": [
    {
     "name": "stdin",
     "output_type": "stream",
     "text": [
      "Enter the number:  15\n"
     ]
    },
    {
     "name": "stdout",
     "output_type": "stream",
     "text": [
      "Snowflake Sequence:  [15, 46, 23, 70, 35, 106, 53, 160, 80, 40, 20, 10, 5, 16, 8, 4, 2, 1]\n"
     ]
    }
   ],
   "source": [
    "def r_snowflake(start, seq = []):\n",
    "    #base condition\n",
    "    seq=[start]\n",
    "    if start==1:\n",
    "        return [1]\n",
    "    else:\n",
    "        if start%2!=0:\n",
    "            start=3*start+1\n",
    "        else:\n",
    "            start=int(start/2)\n",
    "        return seq+(r_snowflake(start))\n",
    "    \n",
    " \n",
    "if __name__ == \"__main__\":\n",
    "    n = input(\"Enter the number: \")\n",
    "    if n.isnumeric():\n",
    "        seq = r_snowflake(int(n))\n",
    "        print(\"Snowflake Sequence: \", seq)\n",
    "    else:\n",
    "        print(\"Please enter a postive integer.\")"
   ]
  },
  {
   "cell_type": "markdown",
   "metadata": {},
   "source": [
    "## Step 3: Find the length of the sequence\n",
    "\n",
    "여기에서 우리의 목적은 수열의 길이만 알아보고자 하는 것이므로, 수열의 결과를 저장하는 것은 효율적이 아닙니다. 이 점에 유의하여 코딩을 하십시오. 또한 반목문 while을 사용하는 방법과 Recursion을 사용하는 방법을 모두 구현하십시오. \n",
    "\n",
    "__Sample Runs:__\n",
    "```\n",
    "Enter the number:  10\n",
    "Snowflake Sequence Length:  7\n",
    "For checking: [10, 5, 16, 8, 4, 2, 1]\n",
    "\n",
    "Enter the number:  12\n",
    "Snowflake Sequence Length:  10\n",
    "For checking: [12, 6, 3, 10, 5, 16, 8, 4, 2, 1]\n",
    "\n",
    "Enter the number:  15\n",
    "Snowflake Sequence Length:  18\n",
    "For checking: [15, 46, 23, 70, 35, 106, 53, 160, 80, 40, 20, 10, 5, 16, 8, 4, 2, 1]\n",
    "```\n",
    "\n",
    "__Using While:__"
   ]
  },
  {
   "cell_type": "code",
   "execution_count": 3,
   "metadata": {},
   "outputs": [
    {
     "name": "stdin",
     "output_type": "stream",
     "text": [
      "Enter the number:  15\n"
     ]
    },
    {
     "name": "stdout",
     "output_type": "stream",
     "text": [
      "Snowflake Sequence Length:  18\n",
      "For checking:  [15, 46, 23, 70, 35, 106, 53, 160, 80, 40, 20, 10, 5, 16, 8, 4, 2, 1]\n"
     ]
    }
   ],
   "source": [
    "def snowflake_len(start):\n",
    "    seq_len = 0\n",
    "    while start>1:\n",
    "        if start%2!=0:\n",
    "            start=3*start+1\n",
    "        else:\n",
    "            start=int(start/2)\n",
    "        seq_len+=1\n",
    "    return seq_len + 1\n",
    " \n",
    "if __name__ == \"__main__\":\n",
    "    n = input(\"Enter the number: \")\n",
    "    if n.isnumeric():\n",
    "        seq_len = snowflake_len(int(n))\n",
    "        print(\"Snowflake Sequence Length: \", seq_len)\n",
    "        print(\"For checking: \",snowflake(int(n)))\n",
    "    else:\n",
    "        print(\"Please enter a postive integer.\")\n"
   ]
  },
  {
   "cell_type": "markdown",
   "metadata": {},
   "source": [
    "__Using Recursion:__\n",
    "\n",
    "__Sample Run:__\n",
    "```\n",
    "Enter the number:  7\n",
    "Snowflake Sequence Length:  17\n",
    "For checking: [7, 22, 11, 34, 17, 52, 26, 13, 40, 20, 10, 5, 16, 8, 4, 2, 1]\n",
    "\n",
    "Enter the number:  16\n",
    "Snowflake Sequence Length:  5\n",
    "For checking: [16, 8, 4, 2, 1]\n",
    "```"
   ]
  },
  {
   "cell_type": "code",
   "execution_count": 4,
   "metadata": {},
   "outputs": [
    {
     "name": "stdin",
     "output_type": "stream",
     "text": [
      "Enter the number:  16\n"
     ]
    },
    {
     "name": "stdout",
     "output_type": "stream",
     "text": [
      "Snowflake Sequence Length:  5\n",
      "For checking:  [16, 8, 4, 2, 1]\n"
     ]
    }
   ],
   "source": [
    "def r_snowflake_len(start, seq_len = 0):\n",
    "    #base condition\n",
    "    if start == 1:\n",
    "        return seq_len + 1\n",
    "    else:\n",
    "        if start%2!=0:\n",
    "            start=3*start+1\n",
    "        else:\n",
    "            start=int(start/2)\n",
    "        seq_len+=1\n",
    "        return seq_len+r_snowflake_len(start)\n",
    " \n",
    "if __name__ == \"__main__\":\n",
    "    n = input(\"Enter the number: \")\n",
    "    if n.isnumeric():\n",
    "        seq_len = r_snowflake_len(int(n))\n",
    "        print(\"Snowflake Sequence Length: \", seq_len)\n",
    "        print(\"For checking: \",snowflake(int(n)))\n",
    "    else:\n",
    "        print(\"Please enter a postive integer.\")\n",
    "        "
   ]
  },
  {
   "cell_type": "markdown",
   "metadata": {},
   "source": [
    "## Step 4: Find the maximum length of the sequence\n",
    "\n",
    "주어진 범위 내에서 가장 긴 눈송이(n)과 그 수열의 길이를 구하십시오. 즉 가장 장수하는 즉 가장 공중에 오래 떠 있는 눈송이를 발생하는 숫자 n과 그 길이를 구하는 문제입니다. \n",
    "\n",
    "__Algorithm:__  \n",
    "\n",
    "1. Take two numbers as input (says a, b).\n",
    "1. Find a snowflake sequence length of all the values ranging from a to b.\n",
    "1. Return the maximum length out of all the lengths of snowflake sequences.\n",
    "\n",
    "__Sample Runs:__   \n",
    "```\n",
    "Enter the number a: 10\n",
    "Enter the number b: 100\n",
    "The maximum length is 119 at 97\n",
    "\n",
    "Enter the number a: 1\n",
    "Enter the number b: 1000\n",
    "The maximum length is 179 at 871\n",
    "\n",
    "Enter the number a: 1000\n",
    "Enter the number b: 10000\n",
    "The maximum length is 262 at 6171\n",
    "```"
   ]
  },
  {
   "cell_type": "code",
   "execution_count": 5,
   "metadata": {},
   "outputs": [
    {
     "name": "stdin",
     "output_type": "stream",
     "text": [
      "Enter the number a: 10\n",
      "Enter the number b: 100\n"
     ]
    },
    {
     "name": "stdout",
     "output_type": "stream",
     "text": [
      "The maximum length is 119 at 97\n"
     ]
    }
   ],
   "source": [
    "def snowflake_len(start):\n",
    "    seq_len = 0\n",
    "    while start>1:\n",
    "        if start%2!=0:\n",
    "            start=3*start+1\n",
    "        else:\n",
    "            start=int(start/2)\n",
    "        seq_len+=1\n",
    "    return seq_len + 1\n",
    " \n",
    "if __name__ == \"__main__\":\n",
    "    a = input(\"Enter the number a:\")\n",
    "    b = input(\"Enter the number b:\")\n",
    "    max_len = 0\n",
    "    max_seed = 0\n",
    "    \n",
    "    if a.isnumeric() and b.isnumeric():\n",
    "        for i in range(int(a),int(b)+1):\n",
    "            num=snowflake_len(i)\n",
    "            if max_len<=num:\n",
    "                max_len=num\n",
    "                max_seed=i\n",
    "        print(f\"The maximum length is {max_len} at {max_seed}\")\n",
    "    else:\n",
    "        print(\"Please enter a postive integer.\")"
   ]
  },
  {
   "cell_type": "markdown",
   "metadata": {},
   "source": [
    "### __Rechecking the answer above:__\n",
    "\n",
    "위에서 구한 눈송이 수열의 최대 길이와 그 눈송이 값이 정확한지 다시 확인하는 코드를 아래에 추가하십시오. 두 줄의 출력문이면 충분합니다. \n",
    "\n",
    "__Sample Run:__ \n",
    "```\n",
    "Sequence:  [97, 292, 146, 73, 220, 110, 55, 166, 83, 250, 125, 376, 188, 94, 47, 142, 71, 214, 107, 322, 161, 484, 242, 121, 364, 182, 91, 274, 137, 412, 206, 103, 310, 155, 466, 233, 700, 350, 175, 526, 263, 790, 395, 1186, 593, 1780, 890, 445, 1336, 668, 334, 167, 502, 251, 754, 377, 1132, 566, 283, 850, 425, 1276, 638, 319, 958, 479, 1438, 719, 2158, 1079, 3238, 1619, 4858, 2429, 7288, 3644, 1822, 911, 2734, 1367, 4102, 2051, 6154, 3077, 9232, 4616, 2308, 1154, 577, 1732, 866, 433, 1300, 650, 325, 976, 488, 244, 122, 61, 184, 92, 46, 23, 70, 35, 106, 53, 160, 80, 40, 20, 10, 5, 16, 8, 4, 2, 1]\n",
    "Sequence length: 119\n",
    "```"
   ]
  },
  {
   "cell_type": "code",
   "execution_count": 6,
   "metadata": {},
   "outputs": [
    {
     "name": "stdout",
     "output_type": "stream",
     "text": [
      "Sequence:  [97, 292, 146, 73, 220, 110, 55, 166, 83, 250, 125, 376, 188, 94, 47, 142, 71, 214, 107, 322, 161, 484, 242, 121, 364, 182, 91, 274, 137, 412, 206, 103, 310, 155, 466, 233, 700, 350, 175, 526, 263, 790, 395, 1186, 593, 1780, 890, 445, 1336, 668, 334, 167, 502, 251, 754, 377, 1132, 566, 283, 850, 425, 1276, 638, 319, 958, 479, 1438, 719, 2158, 1079, 3238, 1619, 4858, 2429, 7288, 3644, 1822, 911, 2734, 1367, 4102, 2051, 6154, 3077, 9232, 4616, 2308, 1154, 577, 1732, 866, 433, 1300, 650, 325, 976, 488, 244, 122, 61, 184, 92, 46, 23, 70, 35, 106, 53, 160, 80, 40, 20, 10, 5, 16, 8, 4, 2, 1]\n",
      "Sequence length: 119\n"
     ]
    }
   ],
   "source": [
    "print('Sequence: ', snowflake(max_seed))\n",
    "print('Sequence length:', max_len)"
   ]
  },
  {
   "cell_type": "markdown",
   "metadata": {},
   "source": [
    "## Step 5: Counting the number of iterations\n",
    "\n",
    "나중에 최적화 문제에 도전하기 위해, 위의 코드에서 while loop의 반복 횟수를 계산하는 코드를 추가하고자 합니다. 가능하다면, 원래의 코드를 변형하지 않기 위하여, 그 사용을 금기시 하는 글로벌 변수를 부득이 사용하고자 합니다. \n",
    "\n",
    "1. `def snowflake_len()` 함수보다 위 부분에 `n_iter = 0`를 추가한다. \n",
    "1. `def snowflake_len()` 함수 안에, `global n_iter`을 선언하다. 전역 변수를 지역 함수 내에서 수정하기 위하여 필요함.\n",
    "1. `def snowflake_len()` 함수의 `while start > 1:`안에, `n_iter += 1`를 추가하여 반복횟수를 계산한다. \n",
    "1. 모든 계산이 끝난 후, Driver code의 마지막 부분에 `n_iter`를 출력한다. \n",
    "\n",
    "__Sample Runs__:  \n",
    "```\n",
    "Enter the number a: 1\n",
    "Enter the number b: 10\n",
    "The maximum length is 20 at 9\n",
    "Number of iteration: 67\n",
    "\n",
    "Enter the number a: 1\n",
    "Enter the number b: 100\n",
    "The maximum length is 119 at 97\n",
    "Number of iteration: 3142\n",
    "\n",
    "Enter the number a: 1\n",
    "Enter the number b: 1000\n",
    "The maximum length is 179 at 871\n",
    "Number of iteration: 59542\n",
    "```\n",
    "\n",
    "위의 __Sample Runs:__ 관찰하면, 범위가 100에서 1000으로 10배로 증가했는데, 반복횟수(Number of iteration)은 그 보다 훨씬 더 많이 증가한 것을 볼 수 있습니다. 이 문제를 나중에 최적화를 통해 해결하고자 합니다. "
   ]
  },
  {
   "cell_type": "code",
   "execution_count": 7,
   "metadata": {},
   "outputs": [
    {
     "name": "stdin",
     "output_type": "stream",
     "text": [
      "Enter the number a: 1\n",
      "Enter the number b: 10\n"
     ]
    },
    {
     "name": "stdout",
     "output_type": "stream",
     "text": [
      "The maximum length is 20 at 9\n",
      "Number of iteration: 67\n"
     ]
    }
   ],
   "source": [
    "n_iter = 0\n",
    "\n",
    "def snowflake_len(start):\n",
    "    global n_iter\n",
    "    seq_len = 0\n",
    "    while start>1:\n",
    "        n_iter+=1\n",
    "        if start%2!=0:\n",
    "            start=3*start+1\n",
    "        else:\n",
    "            start=int(start/2)\n",
    "        seq_len+=1\n",
    "\n",
    "    return seq_len + 1\n",
    " \n",
    "if __name__ == \"__main__\":\n",
    "    \n",
    "    a = input(\"Enter the number a:\")\n",
    "    b = input(\"Enter the number b:\")\n",
    "    max_len = 0\n",
    "    max_seed = 0\n",
    "    \n",
    "    if a.isnumeric() and b.isnumeric():\n",
    "        for i in range(int(a),int(b)+1):\n",
    "            num=snowflake_len(i)\n",
    "            if max_len<=num:\n",
    "                max_len=num\n",
    "                max_seed=i\n",
    "        print(f\"The maximum length is {max_len} at {max_seed}\")\n",
    "    else:\n",
    "        print(\"Please enter a postive integer.\")\n",
    "        \n",
    "    print('Number of iteration:', n_iter)"
   ]
  },
  {
   "cell_type": "code",
   "execution_count": 8,
   "metadata": {},
   "outputs": [
    {
     "name": "stdin",
     "output_type": "stream",
     "text": [
      "Enter the number a: 1\n",
      "Enter the number b: 100\n"
     ]
    },
    {
     "name": "stdout",
     "output_type": "stream",
     "text": [
      "The maximum length is 119 at 97\n",
      "Number of iteration: 3142\n"
     ]
    }
   ],
   "source": [
    "n_iter=0\n",
    "if __name__ == \"__main__\":\n",
    "    \n",
    "    a = input(\"Enter the number a:\")\n",
    "    b = input(\"Enter the number b:\")\n",
    "    max_len = 0\n",
    "    max_seed = 0\n",
    "    \n",
    "    if a.isnumeric() and b.isnumeric():\n",
    "        for i in range(int(a),int(b)+1):\n",
    "            num=snowflake_len(i)\n",
    "            if max_len<=num:\n",
    "                max_len=num\n",
    "                max_seed=i\n",
    "        print(f\"The maximum length is {max_len} at {max_seed}\")\n",
    "    else:\n",
    "        print(\"Please enter a postive integer.\")\n",
    "        \n",
    "    print('Number of iteration:', n_iter)"
   ]
  },
  {
   "cell_type": "code",
   "execution_count": 9,
   "metadata": {},
   "outputs": [
    {
     "name": "stdin",
     "output_type": "stream",
     "text": [
      "Enter the number a: 1\n",
      "Enter the number b: 1000\n"
     ]
    },
    {
     "name": "stdout",
     "output_type": "stream",
     "text": [
      "The maximum length is 179 at 871\n",
      "Number of iteration: 59542\n"
     ]
    }
   ],
   "source": [
    "n_iter=0\n",
    "if __name__ == \"__main__\":\n",
    "    \n",
    "    a = input(\"Enter the number a:\")\n",
    "    b = input(\"Enter the number b:\")\n",
    "    max_len = 0\n",
    "    max_seed = 0\n",
    "    \n",
    "    if a.isnumeric() and b.isnumeric():\n",
    "        for i in range(int(a),int(b)+1):\n",
    "            num=snowflake_len(i)\n",
    "            if max_len<=num:\n",
    "                max_len=num\n",
    "                max_seed=i\n",
    "        print(f\"The maximum length is {max_len} at {max_seed}\")\n",
    "    else:\n",
    "        print(\"Please enter a postive integer.\")\n",
    "        \n",
    "    print('Number of iteration:', n_iter)"
   ]
  },
  {
   "cell_type": "markdown",
   "metadata": {},
   "source": [
    "## Step 6: Find the height of the sequence\n",
    "\n",
    "여기에서 우리의 목적은 수열의 최고 높이만 알아보고자 하는 것이므로, 수열의 결과를 저장하는 것은 효율적이 아닙니다. 이 점에 유의하여 코딩을 하십시오. 또한 반목문 while을 사용하는 방법과 Recursion을 사용하는 방법들 중에 하나만 구현하십시오. \n",
    "\n",
    "__Sample Runs:__\n",
    "```\n",
    "Enter the number:  11\n",
    "The maximum height:  52\n",
    "\n",
    "Enter the number:  15\n",
    "The maximum height:  160\n",
    "\n",
    "Enter the number:  97\n",
    "The maximum height:  9232\n",
    "```"
   ]
  },
  {
   "cell_type": "code",
   "execution_count": 12,
   "metadata": {},
   "outputs": [
    {
     "name": "stdin",
     "output_type": "stream",
     "text": [
      "Enter the number:  97\n"
     ]
    },
    {
     "name": "stdout",
     "output_type": "stream",
     "text": [
      "The maximum height:  9232\n"
     ]
    }
   ],
   "source": [
    "def snowflake_hi(start):\n",
    "    hi = start\n",
    "\n",
    "    while start>1:\n",
    "        if start%2!=0:\n",
    "            start=3*start+1\n",
    "        else:\n",
    "            start=int(start/2)\n",
    "        if start>=hi:\n",
    "            hi=start\n",
    "    return hi\n",
    "if __name__ == \"__main__\":\n",
    "    n = input(\"Enter the number: \")\n",
    "    if n.isnumeric():\n",
    "        hi = snowflake_hi(int(n))\n",
    "        print(\"The maximum height: \", hi)\n",
    "    else:\n",
    "        print(\"Please enter a postive integer.\")"
   ]
  },
  {
   "cell_type": "markdown",
   "metadata": {},
   "source": [
    "### __Rechecking the answer above:__\n",
    "\n",
    "위에서 구한 눈송이 수열의 최대값과 그 눈송이 값이 정확한지 다시 확인하는 코드를 아래에 추가하십시오. 두 줄의 출력문이면 충분합니다. \n",
    "\n",
    "__Sample Run:__ \n",
    "```\n",
    "Sequence:  [97, 292, 146, 73, 220, 110, 55, 166, 83, 250, 125, 376, 188, 94, 47, 142, 71, 214, 107, 322, 161, 484, 242, 121, 364, 182, 91, 274, 137, 412, 206, 103, 310, 155, 466, 233, 700, 350, 175, 526, 263, 790, 395, 1186, 593, 1780, 890, 445, 1336, 668, 334, 167, 502, 251, 754, 377, 1132, 566, 283, 850, 425, 1276, 638, 319, 958, 479, 1438, 719, 2158, 1079, 3238, 1619, 4858, 2429, 7288, 3644, 1822, 911, 2734, 1367, 4102, 2051, 6154, 3077, 9232, 4616, 2308, 1154, 577, 1732, 866, 433, 1300, 650, 325, 976, 488, 244, 122, 61, 184, 92, 46, 23, 70, 35, 106, 53, 160, 80, 40, 20, 10, 5, 16, 8, 4, 2, 1]\n",
    "Sequence maximum height: 9232\n",
    "```"
   ]
  },
  {
   "cell_type": "code",
   "execution_count": 13,
   "metadata": {},
   "outputs": [
    {
     "name": "stdout",
     "output_type": "stream",
     "text": [
      "Sequence:  [97, 292, 146, 73, 220, 110, 55, 166, 83, 250, 125, 376, 188, 94, 47, 142, 71, 214, 107, 322, 161, 484, 242, 121, 364, 182, 91, 274, 137, 412, 206, 103, 310, 155, 466, 233, 700, 350, 175, 526, 263, 790, 395, 1186, 593, 1780, 890, 445, 1336, 668, 334, 167, 502, 251, 754, 377, 1132, 566, 283, 850, 425, 1276, 638, 319, 958, 479, 1438, 719, 2158, 1079, 3238, 1619, 4858, 2429, 7288, 3644, 1822, 911, 2734, 1367, 4102, 2051, 6154, 3077, 9232, 4616, 2308, 1154, 577, 1732, 866, 433, 1300, 650, 325, 976, 488, 244, 122, 61, 184, 92, 46, 23, 70, 35, 106, 53, 160, 80, 40, 20, 10, 5, 16, 8, 4, 2, 1]\n",
      "Sequence maximum: 9232\n"
     ]
    }
   ],
   "source": [
    "print('Sequence: ', snowflake(int(n)))\n",
    "print('Sequence maximum:', hi)"
   ]
  },
  {
   "cell_type": "markdown",
   "metadata": {},
   "source": [
    "## Step 7 Optimizatin: Memoization (채용 시험 질문)\n",
    "\n",
    "두 개의 눈송이 수열 즉 `n=10`인 경우와 `n=11`인 경우를 비교해보면 다음과 같습니다. \n",
    "```\n",
    "[10, 5, 16, 8, 4, 2, 1] \n",
    "[11, 34, 17, 52, 26, 13, 40, 20, 10, 5, 16, 8, 4, 2, 1]\n",
    "```\n",
    "\n",
    "`n = 10` 일 경우, 수열의 길이가 7이며, `n = 11` 인 경우 수열의 길이는 15이므로, 전체를 합하면 22번 while loop를 반복해야 하거나 recursive 함수 호출을 해야 합니다. 그런데, `n = 11`의 수열을 보면 후반부에 수열이 `n = 10`를 subset으로 포함하는 것을 알 수 있습니다. 이 점을 유의하여 어떻게 최적화를 할 수 있을까요? "
   ]
  },
  {
   "cell_type": "markdown",
   "metadata": {},
   "source": [
    "이런 알고리즘을 생각해보길 바랍니다. \n",
    "\n",
    "__Algorithm:__\n",
    "\n",
    "- Calculate the length of the snowflake sequence for 10. (The number of iteration required is 7).\n",
    "- Store the length in the snowflake sequence for 10 the dictionary (says `len_dict`).\n",
    "- Calculate the length of the snowflake sequence for 11. This can be calculated by finding the light of the snowflake sequence till 10 (The number of Iteration requires is 8) plus the length of the snowflake sequence for 10 (from the dictionary).\n",
    "- So the total iterations required for calculating the length of the snowflake sequence for 10 and 11 is 15 (7+8).\n",
    "\n",
    "이러한 최적화(optimization) 우리는 반복횟수를 22회에서 15회로 줄일 수 있습니다. 이렇게 앞서 계산한 것을 저장해두었다가 그 값을 사용하는 기술을 __Memoization__ (not memorization)이라고 합니다. 이런 최적화 문제는 기술 면접 시험에 자주 나오는 것이니 꼭 기억해두길 바랍니다. "
   ]
  },
  {
   "cell_type": "markdown",
   "metadata": {},
   "source": [
    "__최적화(Memoization)를 사용한 반복 횟수의 결과__\n",
    "\n",
    "|  n(range)       | No optimization| Memoization \n",
    "|:---------------:|:--------------:|:------------:|\n",
    "|   1 ~ 10        |      67        |    36   \n",
    "|   1 ~ 100       |      3142      |       901       \n",
    "|   1 ~ 1000      |     59542      |      6377"
   ]
  },
  {
   "cell_type": "markdown",
   "metadata": {},
   "source": [
    "__Sample Run:__\n",
    "```\n",
    "Enter the number a: 1\n",
    "Enter the number b: 10\n",
    "The maximum length is 20 at 9\n",
    "Number of iteration: 36\n",
    "\n",
    "Enter the number a: 1\n",
    "Enter the number b: 100\n",
    "The maximum length is 119 at 97\n",
    "Number of iteration: 901\n",
    "\n",
    "Enter the number a: 1\n",
    "Enter the number b: 1000\n",
    "The maximum length is 179 at 871\n",
    "Number of iteration: 6377\n",
    "```"
   ]
  },
  {
   "cell_type": "code",
   "execution_count": 16,
   "metadata": {},
   "outputs": [
    {
     "name": "stdin",
     "output_type": "stream",
     "text": [
      "Enter the number a: 1\n",
      "Enter the number b: 1000\n"
     ]
    },
    {
     "name": "stdout",
     "output_type": "stream",
     "text": [
      "The maximum length is 179 at 871\n",
      "Number of iteration: 6377\n"
     ]
    }
   ],
   "source": [
    "n_iter = 0\n",
    "\n",
    "def snowflake_len(start, len_dict):\n",
    "    global n_iter\n",
    "    seq_len = 0\n",
    "    snow=start\n",
    "    if snow==1:\n",
    "        len_dict[1]=1\n",
    "    while snow>1:\n",
    "        n_iter+=1\n",
    "        if snow in len_dict:\n",
    "            len_dict[start]=seq_len+len_dict[snow]\n",
    "            return seq_len+len_dict[snow]\n",
    "        else:\n",
    "            if snow%2!=0:\n",
    "                snow=3*snow+1\n",
    "            else:\n",
    "                snow=int(snow/2)\n",
    "            seq_len+=1\n",
    "    len_dict[start]=seq_len+1\n",
    "    return seq_len+1\n",
    "\n",
    "if __name__ == \"__main__\":\n",
    "    a = input(\"Enter the number a:\")\n",
    "    b = input(\"Enter the number b:\")\n",
    "    max_len = 0\n",
    "    max_seed = 0\n",
    "    len_dict = {}\n",
    "    if a.isnumeric() and b.isnumeric():\n",
    "        for i in range(int(a),int(b)+1):\n",
    "            num=snowflake_len(i,len_dict)\n",
    "            if max_len<=num:\n",
    "                max_len=num\n",
    "                max_seed=i\n",
    "        print(f\"The maximum length is {max_len} at {max_seed}\")\n",
    "    else:\n",
    "        print(\"Please enter a postive integer.\")\n",
    "        \n",
    "    print('Number of iteration:', n_iter)\n"
   ]
  },
  {
   "cell_type": "markdown",
   "metadata": {},
   "source": [
    "## 눈송이 수열 그리기 \n",
    "\n",
    "눈송이 11부터 16까지 수열을 다음과 그릴 수 있습니다. "
   ]
  },
  {
   "cell_type": "code",
   "execution_count": 17,
   "metadata": {},
   "outputs": [
    {
     "data": {
      "image/png": "[encoded data removed]",
      "text/plain": [
       "<Figure size 432x288 with 1 Axes>"
      ]
     },
     "metadata": {
      "needs_background": "light"
     },
     "output_type": "display_data"
    }
   ],
   "source": [
    "from matplotlib import pyplot as plt\n",
    " \n",
    "if __name__ == \"__main__\":\n",
    "    a = 11\n",
    "    b = 16\n",
    "    for i in range(a, b+1):\n",
    "        plt.plot(snowflake(i), label='Snowflake for %d'%i)\n",
    "    plt.legend()\n",
    "    plt.show()"
   ]
  },
  {
   "cell_type": "markdown",
   "metadata": {},
   "source": [
    "다음은 눈송이 1부터 1000까지 수열을 범례(legend)없이 그려본 결과입니다. "
   ]
  },
  {
   "cell_type": "code",
   "execution_count": 18,
   "metadata": {},
   "outputs": [
    {
     "data": {
      "image/png": "[encoded data removed]",
      "text/plain": [
       "<Figure size 432x288 with 1 Axes>"
      ]
     },
     "metadata": {
      "needs_background": "light"
     },
     "output_type": "display_data"
    }
   ],
   "source": [
    "if __name__ == \"__main__\":\n",
    "    a = 1\n",
    "    b = 1000\n",
    "    for i in range(a, b+1):\n",
    "        plt.plot(snowflake(i))\n",
    "    plt.show()"
   ]
  },
  {
   "cell_type": "markdown",
   "metadata": {},
   "source": [
    "# 120 million JPY (~1,000,000 US Dollars) 상금\n",
    "\n",
    "여기서 우리가 눈송이 수열이라고 불렀지만, 다른 특별한 이름으로 불리는 이 수열은 모든 양의 정수에 대해 결국 1로 끝난다는 것을 아무도 증명하지 못한 것으로 유명합니다. 과연, 1로 끝나지 않는 눈송이 n을 찾아낸다면 여러분은 세계적으로 유명한 사람이 될 것입니다. 상금도 120만엔 약 백만달러의 상금이 걸려있습니다. 기대합니다. \n"
   ]
  },
  {
   "cell_type": "markdown",
   "metadata": {},
   "source": [
    "# 참고자료\n",
    "\n",
    "- [위키피디아](https://ko.wikipedia.org/wiki/%EB%AA%AC%ED%8B%B0_%ED%99%80_%EB%AC%B8%EC%A0%9C)\n",
    "- [나무위키](https://namu.wiki/w/%EB%AA%AC%ED%8B%B0%20%ED%99%80%20%EB%AC%B8%EC%A0%9C)"
   ]
  },
  {
   "cell_type": "markdown",
   "metadata": {},
   "source": [
    "-----\n",
    "\n",
    "God has saved us and called us to a holy life - not because of anythin we have done but because of his own purpose and grace. This grace was given us in Christ Jesus before the beginning of time. (1Tim1:9)\n",
    "\n",
    "하나님이 우리를 구원하사 거룩하신 소명으로 부르심은 우리의 행위대로 하심이 아니요 오직 자기 뜻과 영원 전부터 그리스도 예수 안에서 우리에게 주신 은혜대로 하심이라. (딤후1:9)"
   ]
  }
 ],
 "metadata": {
  "kernelspec": {
   "display_name": "Python 3 (ipykernel)",
   "language": "python",
   "name": "python3"
  },
  "language_info": {
   "codemirror_mode": {
    "name": "ipython",
    "version": 3
   },
   "file_extension": ".py",
   "mimetype": "text/x-python",
   "name": "python",
   "nbconvert_exporter": "python",
   "pygments_lexer": "ipython3",
   "version": "3.9.7"
  },
  "toc-autonumbering": true
 },
 "nbformat": 4,
 "nbformat_minor": 4
}
